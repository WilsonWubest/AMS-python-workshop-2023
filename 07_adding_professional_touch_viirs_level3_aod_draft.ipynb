{
 "cells": [
  {
   "cell_type": "markdown",
   "id": "18760dd1",
   "metadata": {
    "ExecuteTime": {
     "end_time": "2022-11-28T22:43:03.158052Z",
     "start_time": "2022-11-28T22:43:03.141074Z"
    }
   },
   "source": [
    "# Tutorial to Work with a JPSS (Polar-Orbiting) VIIRS Level 3 (Gridded) Data File\n",
    "\n",
    "This code was written in November 2022 by Dr. Amy Huff, IMSG at NOAA/NESDIS/STAR (amy.huff@noaa.gov) & Dr. Rebekah Esmaili, STC at NOAA/JPSS (rebekah.esmaili@noaa.gov) using:\n",
    "\n",
    "- Python 3.9.12\n",
    "- Xarray 0.20.1\n",
    "- Matplotlib 3.5.1\n",
    "- Cartopy 0.18.0\n",
    "\n",
    "This tutorial will demonstrate how to work with a VIIRS netCDF4 file, including what aspects to consider for making a beautiful image of global gridded data.\n",
    "\n",
    "The main steps are:\n",
    "- Open the file\n",
    "- Read the global file metadata & the metadata for variables in the file\n",
    "- Understand the data variables (e.g., units, valid range, data type)\n",
    "- Visualize satellite data on a map using the appropriate:\n",
    "    - Colormap\n",
    "    - Data range\n",
    "    - Map projection\n",
    "- Format settings to make a beautiful image:\n",
    "    - Color bar\n",
    "    - Coastlines/borders\n",
    "    - Land/ocean shading\n",
    "    - Latitude/longitude ticks & gridlines\n",
    "    - Figure title\n",
    "- Save image file"
   ]
  },
  {
   "cell_type": "markdown",
   "id": "c2c2af7f",
   "metadata": {},
   "source": [
    "## Step 1: Import Python packages\n",
    "\n",
    "We will use four Python packages (libraries) and two Python modules in this tutorial:\n",
    "- The **xarray** library is used to work with labelled multi-dimensional arrays\n",
    "- The **NumPy** library is used to perform array operations\n",
    "- The **Matplotlib** library is used to make plots\n",
    "- The **Cartopy** library is used to create maps\n",
    "- The **datetime** module is used to manipulate dates and times\n",
    "- The **pathlib** module is used to set filesystem paths for the user's operating system"
   ]
  },
  {
   "cell_type": "code",
   "execution_count": null,
   "id": "64e393a3",
   "metadata": {},
   "outputs": [],
   "source": [
    "import xarray as xr\n",
    "\n",
    "import numpy as np\n",
    "\n",
    "import matplotlib as mpl\n",
    "from matplotlib import pyplot as plt\n",
    "\n",
    "from cartopy import crs as ccrs\n",
    "import cartopy.feature as cfeature\n",
    "from cartopy.mpl.ticker import LongitudeFormatter, LatitudeFormatter\n",
    "\n",
    "import datetime\n",
    "\n",
    "from pathlib import Path"
   ]
  },
  {
   "cell_type": "markdown",
   "id": "ed68411f",
   "metadata": {},
   "source": [
    "## Step 2: Set directory path and file name for satellite data file\n",
    "\n",
    "We set the directory path for the satellite data file using the **pathlib** module, which automatically uses the correct format for the user's operating system. This helps avoid errors in situations when more than one person is using the same code file, because Windows uses back slashes in directory paths, while MacOS and Linux use forward slashes. \n",
    "\n",
    "For more information about the **pathlib** module: __https://docs.python.org/3/library/pathlib.html#module-pathlib__\n",
    "\n",
    "To keep things simple for this training, we put the satellite data files we downloaded in the current working directory (\"cwd\"), the same Jupyter Notebook folder where this code file is located.\n",
    "\n",
    "We set the \"directory_path\" as the current working directory and the \"file_name\" of the netCDF4 satellite data file, and then set the full path for the data file (\"file_id\") using **pathlib** syntax."
   ]
  },
  {
   "cell_type": "code",
   "execution_count": null,
   "id": "d68476d3",
   "metadata": {},
   "outputs": [],
   "source": [
    "directory_path = Path.cwd()\n",
    "\n",
    "file_name = 'viirs_eps_npp_aod_0.100_deg_20220911.nc'\n",
    "\n",
    "file_id = directory_path / file_name"
   ]
  },
  {
   "cell_type": "markdown",
   "id": "264d5f9c",
   "metadata": {},
   "source": [
    "## Step 3: Open satellite data file using xarray & read metadata\n",
    "\n",
    "We open the satellite data file using \"xarray.open_dataset\" and then print the file metadata. The contents of a satellite data file are called a \"Dataset\" in xarray, conventionally abbreviated as \"ds\". \n",
    "\n",
    "The global file metadata are listed under \"Attributes\".\n",
    "\n",
    "Longitude (\"lon\") and latitude (\"lat\") metadata are displayed under \"Coordinates\".\n",
    "\n",
    "The metadata for the satellite data in the file are displayed under \"Data variables\".  A data variable is called a \"DataArray\" in xarray, conventionally abbreviated as \"da\".  We are going to focus on the \"AOD550\" variable, aerosol optical depth (AOD) at 550nm."
   ]
  },
  {
   "cell_type": "code",
   "execution_count": null,
   "id": "20241de2",
   "metadata": {},
   "outputs": [],
   "source": [
    "ds = xr.open_dataset(file_id)\n",
    "\n",
    "ds"
   ]
  },
  {
   "cell_type": "markdown",
   "id": "7f2ea2a4",
   "metadata": {},
   "source": [
    "## Step 4a: Open AOD550 data array as a NumPy array & print summary of array\n",
    "\n",
    "The AOD550 data array is large, so xarray does not include a summary of the array in the metadata, like it does for the lat and lon arrays. When working with a new satellite dataset, it's good practice to check the data array to see the data format and range of values. \n",
    "\n",
    "We can use \"xarray.DataArray.values\" to open the AOD550 data array as a NumPy array and print a summary of the array."
   ]
  },
  {
   "cell_type": "code",
   "execution_count": null,
   "id": "54644400",
   "metadata": {},
   "outputs": [],
   "source": [
    "ds.AOD550.values"
   ]
  },
  {
   "cell_type": "markdown",
   "id": "34ee9014",
   "metadata": {},
   "source": [
    "## Step 4b: Print maximum and minimum  values in AOD550 array, ignoring any NaNs, using NumPy\n",
    "\n",
    "There are missing or invalid data at the beginning and end of the AOD550 array, which are displayed as \"nan\". To see the range of valid data in the array, we can use NumPy to print the non-NaN maximum and minimum values.  Note these values are floating point numbers (floats) and fall within the \"valid_range\" of the AOD550 data listed in the metadata."
   ]
  },
  {
   "cell_type": "code",
   "execution_count": null,
   "id": "041e355f",
   "metadata": {},
   "outputs": [],
   "source": [
    "print(np.nanmax(ds.AOD550.values))\n",
    "print(np.nanmin(ds.AOD550.values))"
   ]
  },
  {
   "cell_type": "markdown",
   "id": "9c29d632",
   "metadata": {},
   "source": [
    "## Step 5: Open lat and lon data arrays as NumPy arrays & print summaries of arrays\n",
    "\n",
    "In the following two code blocks, open the 1) **lat** and 2) **lon** data arrays as NumPy arrays and print a summary of each array. Compare the array summaries to those listed in the metadata."
   ]
  },
  {
   "cell_type": "code",
   "execution_count": null,
   "id": "98ad16a9",
   "metadata": {},
   "outputs": [],
   "source": [
    "# OPEN \"lat\" DATA ARRAY & PRINT ARRAY SUMMARY\n"
   ]
  },
  {
   "cell_type": "code",
   "execution_count": null,
   "id": "98177fbd",
   "metadata": {},
   "outputs": [],
   "source": [
    "# OPEN \"lon\" DATA ARRAY & PRINT ARRAY SUMMARY\n"
   ]
  },
  {
   "cell_type": "markdown",
   "id": "d60321ca",
   "metadata": {},
   "source": [
    "## Step 6a: Make a quick plot of AOD550 (default settings)\n",
    "\n",
    "Now that we understand the AOD550, lat, and lon data arrays, we can proceed to plot the data. We begin with the simplest possible plot using the xarray default settings."
   ]
  },
  {
   "cell_type": "code",
   "execution_count": null,
   "id": "45df7404",
   "metadata": {},
   "outputs": [],
   "source": [
    "ds.AOD550.plot()"
   ]
  },
  {
   "cell_type": "markdown",
   "id": "acc5ebe2",
   "metadata": {},
   "source": [
    "## Step 6b: Make a quick plot of AOD550 (use a different colormap)\n",
    "\n",
    "Well, the plot generated using the default settings looks horrible. It's very difficult to interpret the AOD550 data because the default colormap is a \"diverging\" colormap, but we know from the metadata that the AOD550 valid range includes almost all positive values.  So let's change the colormap to a \"sequential\" colormap, used to represent information that has ordering.\n",
    "\n",
    "List of Matplotlib colormaps: __https://matplotlib.org/stable/tutorials/colors/colormaps.html__\n",
    "\n",
    "Note that adding \"_r\" to the end of any colormap name reverses it (e.g., \"plasma_r\")"
   ]
  },
  {
   "cell_type": "code",
   "execution_count": null,
   "id": "883fa912",
   "metadata": {},
   "outputs": [],
   "source": [
    "ds.AOD550.plot(cmap='rainbow')"
   ]
  },
  {
   "cell_type": "markdown",
   "id": "0b699dae",
   "metadata": {},
   "source": [
    "## Step 6c: Make a quick plot of AOD550 (change plotted data range)\n",
    "\n",
    "Changing the colormap helps, but it's still difficult to discern any pattern in the plotted AOD550 data. We can see from the plotted data that most values fall in the range of 0 to 1 (green shading). We want to emphasize thick aerosols, AOD550 > 1. Also, the low end of the default data range extends to -5 but we know from the metadata that the low end of the AOD550 valid range is -0.05.\n",
    "\n",
    "So let's set the plotted AOD550 data range as [-0.05, 1]."
   ]
  },
  {
   "cell_type": "code",
   "execution_count": null,
   "id": "92b491ba",
   "metadata": {},
   "outputs": [],
   "source": [
    "ds.AOD550.plot(cmap='rainbow', vmin=-0.05, vmax=1)"
   ]
  },
  {
   "cell_type": "markdown",
   "id": "400e37ee",
   "metadata": {},
   "source": [
    "## Step 6d: Make a quick plot of AOD550 (set unique color for data > vmax)\n",
    "\n",
    "That looks much better - now the pattern in the data is evident. However, we can't discern areas with AOD550 > 1 from those with AOD550 = 1 (they are the same color, red). To make it clear where the thickest aerosols are, we can set a unique color for data > vmax (e.g., AOD550 > 1). \n",
    "\n",
    "List of Matplotlib colors: __https://matplotlib.org/stable/gallery/color/named_colors.html__"
   ]
  },
  {
   "cell_type": "code",
   "execution_count": null,
   "id": "1d4a45aa",
   "metadata": {},
   "outputs": [],
   "source": [
    "cmap = plt.get_cmap('rainbow').with_extremes(over='darkred')\n",
    "ds.AOD550.plot(cmap=cmap, vmin=-0.05, vmax=1)"
   ]
  },
  {
   "cell_type": "markdown",
   "id": "9c5c3e80",
   "metadata": {},
   "source": [
    "## Step 6e: Make a quick plot of AOD550\n",
    "### SET YOUR OWN COLORMAP & COLOR FOR DATA > VMAX\n",
    "\n",
    "In the code block below, fill in the missing **colormap** and **color** strings with your choices and generate the plot. Try a few different options to see the effects on the ease of readability/interpretation of the plotted data."
   ]
  },
  {
   "cell_type": "code",
   "execution_count": null,
   "id": "1913e043",
   "metadata": {},
   "outputs": [],
   "source": [
    "# SET YOUR OWN COLORMAP AND COLOR FOR DATA > VMAX\n",
    "\n",
    "cmap = plt.get_cmap('').with_extremes(over='')\n",
    "ds.AOD550.plot(cmap=cmap, vmin=-0.05, vmax=1)"
   ]
  },
  {
   "cell_type": "markdown",
   "id": "51599210",
   "metadata": {},
   "source": [
    "## Step 7a: Plot AOD550 on a map using Matplotlib & Cartopy (Plate Carree projection)\n",
    "\n",
    "Now that we have visually clear and informative data plotting settings, we can proceed to plotting our satellite data on a map. \n",
    "\n",
    "We set up a figure in Matplotlib and add \"geoaxes\" with a map projection using Cartopy. Cartopy has many different map projection options. Our VIIRS Level 3 gridded data is a global dataset, so we are focusing on global map projections for this tutorial. \n",
    "\n",
    "List of Cartopy map projections: __https://scitools.org.uk/cartopy/docs/latest/reference/projections.html__\n",
    "\n",
    "The first example is the Plate Carree equidistant cylindrical (equirectangular) projection: \"plt.axes(projection=ccrs.PlateCarree())\".\n",
    "\n",
    "We plot the AOD550 data using Matplotlib's \"pcolormesh\" plotting function, with the colormap and color for data > vmax that we defined previously. Note xarray makes it easy to plot Data Arrays using \"xarray.DataArray\", e.g. \"ds.lon\", \"ds.lat\", \"ds.AOD550\".\n",
    "\n",
    "The plotting function argument **\"transform=ccrs.PlateCarree()\"** tells Cartopy that the AOD550 data are in geographic coordinates (lat/lon). This argument **must** be included when plotting satellite data that are in geographic coordinates, or the data will not plot correctly on the map projection. Technically, it's not necessary if using the Plate Carree map projection (\"projection=ccrs.PlateCarree()\"), as we are in this example, but it's good practice to include the \"transform\" argument to avoid accidental errors when using a different map projection, which we will do in Steps 7b and 7c."
   ]
  },
  {
   "cell_type": "code",
   "execution_count": null,
   "id": "45896fca",
   "metadata": {},
   "outputs": [],
   "source": [
    "fig = plt.figure(figsize=(10, 10))\n",
    "\n",
    "ax = plt.axes(projection=ccrs.PlateCarree())\n",
    "\n",
    "cmap = plt.get_cmap('rainbow').with_extremes(over='darkred')\n",
    "\n",
    "plot = ax.pcolormesh(ds.lon, ds.lat, ds.AOD550, cmap=cmap, vmin=-0.05, vmax=1, transform=ccrs.PlateCarree())\n",
    "\n",
    "plt.show()"
   ]
  },
  {
   "cell_type": "markdown",
   "id": "03dd53ee",
   "metadata": {},
   "source": [
    "## Step 7b: Plot AOD550 on a map using Matplotlib & Cartopy (Mollweide projection)\n",
    "\n",
    "This example uses the \"Mollweide\" pseudocylindrical equal area projection. The code is exactly the same as in Step 7a, except the \"plt.axes(projection=)\" argument is set to \"ccrs.Mollweide()\" instead of \"ccrs.PlateCarree()\"."
   ]
  },
  {
   "cell_type": "code",
   "execution_count": null,
   "id": "3c4cd286",
   "metadata": {},
   "outputs": [],
   "source": [
    "fig = plt.figure(figsize=(10, 10))\n",
    "\n",
    "ax = plt.axes(projection=ccrs.Mollweide())\n",
    "\n",
    "cmap = plt.get_cmap('rainbow').with_extremes(over='darkred')\n",
    "\n",
    "plot = ax.pcolormesh(ds.lon, ds.lat, ds.AOD550, cmap=cmap, vmin=-0.05, vmax=1, transform=ccrs.PlateCarree())\n",
    "\n",
    "plt.show()"
   ]
  },
  {
   "cell_type": "markdown",
   "id": "19e882f7",
   "metadata": {},
   "source": [
    "## Step 7c: Plot AOD550 on a map using Matplotlib & Cartopy (Interrupted Goode Homolosine projection)\n",
    "\n",
    "This example uses the \"Interrupted Goode Homolosine\" composite equal area projection. The code is exactly the same as in Step 7a, except the \"plt.axes(projection=)\" argument is set to \"ccrs.InterruptedGoodeHomolosine()\" instead of \"ccrs.PlateCarree()\"."
   ]
  },
  {
   "cell_type": "code",
   "execution_count": null,
   "id": "4d5a7c71",
   "metadata": {},
   "outputs": [],
   "source": [
    "fig = plt.figure(figsize=(10, 10))\n",
    "\n",
    "ax = plt.axes(projection=ccrs.InterruptedGoodeHomolosine())\n",
    "\n",
    "cmap = plt.get_cmap('rainbow').with_extremes(over='darkred')\n",
    "\n",
    "plot = ax.pcolormesh(ds.lon, ds.lat, ds.AOD550, cmap=cmap, vmin=-0.05, vmax=1, transform=ccrs.PlateCarree())\n",
    "\n",
    "plt.show()"
   ]
  },
  {
   "cell_type": "markdown",
   "id": "0a89e974",
   "metadata": {},
   "source": [
    "## Step 7d: Plot AOD550 on a map using Matplotlib & Cartopy\n",
    "### SET YOUR OWN COLORMAP & COLOR FOR DATA > VMAX; SET YOUR OWN MAP PROJECTION\n",
    "\n",
    "In the code block below, fill in the missing map projection in the \"plt.axes(projection=)\" argument. Then fill in the missing colormap and color strings with the choices you made in Step 6e, and generate the plot. Try a couple of different map projections to see how the choice of projection affects the display of the global data."
   ]
  },
  {
   "cell_type": "code",
   "execution_count": null,
   "id": "86cc662c",
   "metadata": {},
   "outputs": [],
   "source": [
    "fig = plt.figure(figsize=(10, 10))\n",
    "\n",
    "# SET MAP PROJECTION\n",
    "ax = plt.axes(projection=)\n",
    "\n",
    "# SET COLORMAP AND COLOR FOR DATA > VMAX\n",
    "cmap = plt.get_cmap('').with_extremes(over='')\n",
    "\n",
    "plot = ax.pcolormesh(ds.lon, ds.lat, ds.AOD550, cmap=cmap, vmin=-0.05, vmax=1, transform=ccrs.PlateCarree())\n",
    "\n",
    "plt.show()"
   ]
  },
  {
   "cell_type": "markdown",
   "id": "1ffbde38",
   "metadata": {},
   "source": [
    "## Step 8a: Add a colorbar to the map of AOD550 (default settings)\n",
    "\n",
    "You may have noticed that the colorbar for the AOD550 data, which appeared automatically when we used xarray to make a quick plot of the data in Step 6, is missing in our map figures in Step 7. We need to add the colorbar manually. \n",
    "\n",
    "First, let's add the simplest possible colorbar using the Matplotlib default settings: \"plt.colorbar()\"."
   ]
  },
  {
   "cell_type": "code",
   "execution_count": null,
   "id": "1c919837",
   "metadata": {},
   "outputs": [],
   "source": [
    "fig = plt.figure(figsize=(10, 10))\n",
    "\n",
    "ax = plt.axes(projection=ccrs.Mollweide())\n",
    "\n",
    "cmap = plt.get_cmap('rainbow').with_extremes(over='darkred')\n",
    "\n",
    "plot = ax.pcolormesh(ds.lon, ds.lat, ds.AOD550, cmap=cmap, vmin=-0.05, vmax=1, transform=ccrs.PlateCarree())\n",
    "\n",
    "plt.colorbar(plot)\n",
    "\n",
    "plt.show()"
   ]
  },
  {
   "cell_type": "markdown",
   "id": "8bcfde5c",
   "metadata": {},
   "source": [
    "## Step 8b: Add a colorbar to the map of AOD550 (change size & position of colorbar)\n",
    "\n",
    "Well, the colorbar added with the default settings looks terrible - the colorbar is enormous compared to the map. Also, this map projection lends itself to having a horizontal colorbar rather than a vertical one. So let's change the size and position of the colorbar using the Matplotlib \"fig.colorbar()\" function.\n",
    "\n",
    "Matplotlib's colorbar settings: __https://matplotlib.org/stable/api/figure_api.html#matplotlib.figure.Figure.colorbar__\n",
    "\n",
    "In this example, we change the orientation of the colorbar to horizontal, set the fraction of original axes to use for the colorbar (\"fraction=0.2\"), set the fraction of padding between the colorbar and map axes (\"pad=0.05\"), and set the fraction of the size of the colorbar to the figure (\"shrink=0.5\"). "
   ]
  },
  {
   "cell_type": "code",
   "execution_count": null,
   "id": "79d1b1fa",
   "metadata": {},
   "outputs": [],
   "source": [
    "fig = plt.figure(figsize=(10, 10))\n",
    "\n",
    "ax = plt.axes(projection=ccrs.Mollweide())\n",
    "\n",
    "cmap = plt.get_cmap('rainbow').with_extremes(over='darkred')\n",
    "\n",
    "plot = ax.pcolormesh(ds.lon, ds.lat, ds.AOD550, cmap=cmap, vmin=-0.05, vmax=1, transform=ccrs.PlateCarree())\n",
    "\n",
    "cb = fig.colorbar(plot, orientation='horizontal', fraction=0.2, pad=0.05, shrink=0.5)\n",
    "\n",
    "plt.show()"
   ]
  },
  {
   "cell_type": "markdown",
   "id": "f3c7b4b9",
   "metadata": {},
   "source": [
    "## Step 8c: Add a colorbar to the map of AOD550 (set tick marks/labels & add title to colorbar)\n",
    "\n",
    "That looks a lot better - the colorbar is now an appropriate size and in a logical position under the map. But the colorbar is missing a title (label). In addition, I think there are too many tick marks - the colorbar looks a bit busy. Finally, the colorbar is missing the little arrow on the end that indicates the color we selected for AOD550 > 1. \n",
    "\n",
    "Let's tweak the colorbar settings by adding more arguments in the \"fig.colorbar()\" function, to manually set the tick marks and show the little arrow on the end with the color we selected for data > vmax (\"extend='max'\"). We also add a  title for the colorbar (\"set_label\"), bolded and in 8-point font (using Matplotlib's text settings), and add labels for the tick marks (\"set_xticklabels\").\n",
    "\n",
    "Matplotlib text settings: __https://matplotlib.org/stable/tutorials/text/text_props.html__"
   ]
  },
  {
   "cell_type": "code",
   "execution_count": null,
   "id": "56560f99",
   "metadata": {},
   "outputs": [],
   "source": [
    "fig = plt.figure(figsize=(10, 10))\n",
    "\n",
    "ax = plt.axes(projection=ccrs.Mollweide())\n",
    "\n",
    "cmap = plt.get_cmap('rainbow').with_extremes(over='darkred')\n",
    "\n",
    "plot = ax.pcolormesh(ds.lon, ds.lat, ds.AOD550, cmap=cmap, vmin=-0.05, vmax=1, transform=ccrs.PlateCarree())\n",
    "\n",
    "cb = fig.colorbar(plot, orientation='horizontal', fraction=0.2, pad=0.05, shrink=0.5, ticks=[0, 0.25, 0.5, 0.75, 1], extend='max')\n",
    "cb.set_label(label='Aerosol Optical Depth at 550nm', size=8, weight='bold')\n",
    "cb.ax.set_xticklabels(['0', '0.25', '0.50', '0.75', '1.0'])\n",
    "\n",
    "plt.show()"
   ]
  },
  {
   "cell_type": "markdown",
   "id": "c24a6778",
   "metadata": {},
   "source": [
    "## Step 9a: Add coastlines/borders/shading to map (simple coastlines & borders)\n",
    "\n",
    "Let's add coastlines and borders to our map. Cartopy has a number of options for adding these features. The simplest is to use Cartopy's Feature interface, which defines seven common features at 1:110m (coarse) resolution. These coastlines/borders plot as black lines with linewidth=1 by default.\n",
    "\n",
    "Cartopy Features interface: __https://scitools.org.uk/cartopy/docs/latest/matplotlib/feature_interface.html__\n",
    "\n",
    "Let's make a plain map with a Plate Carree projection and add the simple coastlines, international borders, US state borders, and large lakes from the Features interface. We'll leave out the AOD550 data for now, to see the map clearly."
   ]
  },
  {
   "cell_type": "code",
   "execution_count": null,
   "id": "5db47bac",
   "metadata": {},
   "outputs": [],
   "source": [
    "fig = plt.figure(figsize=(10, 10))\n",
    "\n",
    "ax = plt.axes(projection=ccrs.PlateCarree())\n",
    "\n",
    "ax.add_feature(cfeature.COASTLINE)\n",
    "ax.add_feature(cfeature.BORDERS)\n",
    "ax.add_feature(cfeature.LAKES)\n",
    "ax.add_feature(cfeature.STATES)\n",
    "\n",
    "plt.show()"
   ]
  },
  {
   "cell_type": "markdown",
   "id": "88e241e6",
   "metadata": {},
   "source": [
    "## Step 9b: Add coastlines/borders/shading to map (shade land/ocean & change border linewidths)\n",
    "\n",
    "Depending on the satellite data you are working with, the simple black & white default Features interface settings may be sufficient. But typically, you will want to shade the land and ocean to provide contrast. Also, the coastlines/borders lines are somewhat thick.\n",
    "\n",
    "Let's modify the default Features interface settings to make the coastlines and borders lines narrower, and to color the ocean \"lightblue\" and the land \"wheat\".\n",
    "\n",
    "List of Matplotlib colors: __https://matplotlib.org/stable/gallery/color/named_colors.html__"
   ]
  },
  {
   "cell_type": "code",
   "execution_count": null,
   "id": "7d4e2b14",
   "metadata": {},
   "outputs": [],
   "source": [
    "fig = plt.figure(figsize=(10, 10))\n",
    "\n",
    "ax = plt.axes(projection=ccrs.PlateCarree())\n",
    "\n",
    "ax.add_feature(cfeature.COASTLINE, lw=0.5)\n",
    "ax.add_feature(cfeature.BORDERS, lw=0.5)\n",
    "ax.add_feature(cfeature.LAKES)\n",
    "ax.add_feature(cfeature.STATES, lw=0.25)\n",
    "ax.add_feature(cfeature.LAND, color='wheat')\n",
    "ax.add_feature(cfeature.OCEAN, color='lightblue')\n",
    "\n",
    "plt.show()"
   ]
  },
  {
   "cell_type": "markdown",
   "id": "af1c1587",
   "metadata": {},
   "source": [
    "## Step 9c: Add coastlines/borders/shading to map (change resolution of coastlines & borders)\n",
    "\n",
    "If you are making a map of global data, like we are in this tutorial, then the Features interface has suitable resolution (1:110m). But if you zoom in to a continent, region, or city, then you will want to use higher resolution coastlines and borders.\n",
    "\n",
    "Cartopy's Natural Earth shapefiles interface allows you to add coastlines and borders with much more control and higher resolution than the simple Features interface. Shapefiles are available at 1:10m high resolution (scale='10m'), 1:50m medium resolution (scale='50m'), and 1:110m coarse resolution (scale='110m').\n",
    "\n",
    "Natural Earth shapefiles: __https://www.naturalearthdata.com/downloads/__\n",
    "\n",
    "In this example, we zoom into North America using \"set_extent([map_corners])\" where the \"map_corners\" are the [western_longitude, eastern_longitude, southern_latitude, northern_latitude] of the zoomed-in map in degrees (use negative values to indicate °S latitude or °W longitude).\n",
    "\n",
    "Then we add Natural Earth features at 1:50m (medium) resolution: coastlines, country borders, and state borders as black lines, lakes and ocean shaded \"lightblue\", and land shaded \"wheat\".\n",
    "\n",
    "We need to add the \"zorder\" argument to the Natural Earth feature function so the coastlines, borders, and shading plot in the proper order. Layers with larger zorder plot over layers with smaller zorder; the default zorder=1.5."
   ]
  },
  {
   "cell_type": "code",
   "execution_count": null,
   "id": "71623b28",
   "metadata": {},
   "outputs": [],
   "source": [
    "fig = plt.figure(figsize=(10, 10))\n",
    "\n",
    "ax = plt.axes(projection=ccrs.PlateCarree())\n",
    "\n",
    "ax.set_extent([-130, -60, 20, 60], crs=ccrs.PlateCarree())\n",
    "\n",
    "ax.coastlines(resolution='50m', lw=0.25, zorder=2)\n",
    "ax.add_feature(cfeature.NaturalEarthFeature(category='cultural', name='admin_0_countries', scale='50m'), lw=0.25, facecolor='none', edgecolor='black', zorder=2)\n",
    "ax.add_feature(cfeature.NaturalEarthFeature(category='physical', name='lakes', scale='50m'), facecolor='lightblue', edgecolor='none', zorder=2)\n",
    "ax.add_feature(cfeature.NaturalEarthFeature(category='cultural', name='admin_1_states_provinces', scale='50m'), lw=0.25, facecolor='none', edgecolor='black', zorder=2)\n",
    "ax.add_feature(cfeature.NaturalEarthFeature(category='physical', name='ocean', scale='50m'), facecolor='lightblue')\n",
    "ax.add_feature(cfeature.NaturalEarthFeature(category='physical', name='land', scale='50m'), facecolor='wheat')\n",
    "\n",
    "plt.show()"
   ]
  },
  {
   "cell_type": "markdown",
   "id": "f0d5147e",
   "metadata": {},
   "source": [
    "## Step 9d: Add coastlines/borders/shading to global map of AOD550\n",
    "\n",
    "Now that we understand the various Cartopy settings for adding coastlines, borders, and land/ocean shading to maps, we can format our map of satellite data. \n",
    "\n",
    "For the global map of AOD550, the simple Cartopy Features interface settings are sufficient, with modification to make the linewidths narrower. I added the \"zorder=3\" argument to the coastline, borders, and states features so the boundary lines plot on top of the AOD550 data.\n",
    "\n",
    "To avoid competing with the \"rainbow\" colormap I have chosen for AOD550, I am shading lakes and ocean \"lightgrey\" and land \"grey\". These neutral colors will provide contrast against the plotted data, making it easy to interpret AOD550."
   ]
  },
  {
   "cell_type": "code",
   "execution_count": null,
   "id": "41bbcc9e",
   "metadata": {},
   "outputs": [],
   "source": [
    "fig = plt.figure(figsize=(10, 10))\n",
    "\n",
    "ax = plt.axes(projection=ccrs.Mollweide())\n",
    "\n",
    "ax.add_feature(cfeature.COASTLINE, lw=0.75, zorder=3)\n",
    "ax.add_feature(cfeature.BORDERS, lw=0.75, zorder=3)\n",
    "ax.add_feature(cfeature.LAKES, color='lightgrey')\n",
    "ax.add_feature(cfeature.STATES, lw=0.5, zorder=3)\n",
    "ax.add_feature(cfeature.LAND, color='grey')\n",
    "ax.add_feature(cfeature.OCEAN, color='lightgrey')\n",
    "\n",
    "cmap = plt.get_cmap('rainbow').with_extremes(over='darkred')\n",
    "\n",
    "plot = ax.pcolormesh(ds.lon, ds.lat, ds.AOD550, cmap=cmap, vmin=-0.05, vmax=1, transform=ccrs.PlateCarree(), zorder=2)\n",
    "\n",
    "cb = fig.colorbar(plot, orientation='horizontal', fraction=0.2, pad=0.05, shrink=0.5, ticks=[0, 0.25, 0.5, 0.75, 1], extend='max')\n",
    "cb.set_label(label='Aerosol Optical Depth at 550nm', size=8, weight='bold')\n",
    "cb.ax.set_xticklabels(['0', '0.25', '0.50', '0.75', '1.0'])\n",
    "\n",
    "plt.show()"
   ]
  },
  {
   "cell_type": "markdown",
   "id": "f47bdf65",
   "metadata": {},
   "source": [
    "## Step 10a: Add latitude/longitude gridlines & labels (default settings)\n",
    "\n",
    "Depending on the audience for your figure, you may want to add a latitude/longitude grid. Latitude and longitude gridlines and labels can be added using Cartopy's \"gridlines\" function, conventionally abbreviated as \"gl\".\n",
    "\n",
    "Cartopy gridlines settings: __https://scitools.org.uk/cartopy/docs/latest/reference/generated/cartopy.mpl.geoaxes.GeoAxes.html#cartopy.mpl.geoaxes.GeoAxes.gridlines__\n",
    "\n",
    "Cartopy gridlines tutorial: __https://scitools.org.uk/cartopy/docs/latest/matplotlib/gridliner.html__\n",
    "\n",
    "The appearance of gridlines and labels will be different for different map projections. The best approach is to begin with the default settings to add gridlines and labels: \"gl=ax.gridlines(draw_labels=True)\". The \"LatitudeFormatter\" and \"LongitudeFormatter\" format the grid labels. We'll leave out the AOD550 data for now, to see the map clearly."
   ]
  },
  {
   "cell_type": "code",
   "execution_count": null,
   "id": "af1ac055",
   "metadata": {},
   "outputs": [],
   "source": [
    "fig = plt.figure(figsize=(10, 10))\n",
    "\n",
    "ax = plt.axes(projection=ccrs.PlateCarree())\n",
    "\n",
    "ax.add_feature(cfeature.COASTLINE)\n",
    "ax.add_feature(cfeature.BORDERS)\n",
    "ax.add_feature(cfeature.LAKES)\n",
    "ax.add_feature(cfeature.STATES)\n",
    "\n",
    "gl=ax.gridlines(draw_labels=True)\n",
    "gl.xformatter=LongitudeFormatter()\n",
    "gl.yformatter=LatitudeFormatter()\n",
    "\n",
    "plt.show()"
   ]
  },
  {
   "cell_type": "markdown",
   "id": "d7b3d8ea",
   "metadata": {},
   "source": [
    "## Step 10b: Add latitude/longitude gridlines & labels (customized settings)\n",
    "\n",
    "The default gridlines settings are ok, but the labels are relatively large, and having labels on all four sides of the map is distracting. There are many parameters in the \"gridlines\" function that we can use to customize the grid labels and the gridlines themselves.\n",
    "\n",
    "Let's make the gridlines narrower (\"lw=0.25\") and change the color and linestyle of the gridlines. Also, let's remove the labels along the top and right sides of map, add a little padding between the labels and the edge of the map, and make the labels smaller (8-point font)."
   ]
  },
  {
   "cell_type": "code",
   "execution_count": null,
   "id": "4a495b4a",
   "metadata": {},
   "outputs": [],
   "source": [
    "fig = plt.figure(figsize=(10, 10))\n",
    "\n",
    "ax = plt.axes(projection=ccrs.PlateCarree())\n",
    "\n",
    "ax.add_feature(cfeature.COASTLINE)\n",
    "ax.add_feature(cfeature.BORDERS)\n",
    "ax.add_feature(cfeature.LAKES)\n",
    "ax.add_feature(cfeature.STATES)\n",
    "\n",
    "gl=ax.gridlines(draw_labels=True, lw=0.25, color='magenta', linestyle='-.')\n",
    "gl.xformatter=LongitudeFormatter()\n",
    "gl.yformatter=LatitudeFormatter()\n",
    "gl.right_labels=None\n",
    "gl.top_labels=None\n",
    "gl.ypadding=5\n",
    "gl.xpadding=5\n",
    "gl.xlabel_style={'size': 8}\n",
    "gl.ylabel_style={'size': 8}\n",
    "\n",
    "plt.show()"
   ]
  },
  {
   "cell_type": "markdown",
   "id": "69f89246",
   "metadata": {},
   "source": [
    "## Step 10c: Add latitude/longitude gridlines & labels\n",
    "\n",
    "### SET YOUR OWN MAP PROJECTION & GRIDLINES FORMATTING\n",
    "\n",
    "In the code block below, fill in the missing map projection in the \"plt.axes(projection=)\" argument. Then modify the \"gridlines\" settings so the gridlines and labels are clear and easy to read for your chosen map projection.\n",
    "\n",
    "Play around with the gridlines/labels settings: try changing the color, width, and type of gridlines & the color, size, and formatting of the grid labels."
   ]
  },
  {
   "cell_type": "code",
   "execution_count": null,
   "id": "43db3186",
   "metadata": {},
   "outputs": [],
   "source": [
    "fig = plt.figure(figsize=(10, 10))\n",
    "\n",
    "# SET MAP PROJECTION\n",
    "ax = plt.axes(projection=)\n",
    "\n",
    "ax.add_feature(cfeature.COASTLINE)\n",
    "ax.add_feature(cfeature.BORDERS)\n",
    "ax.add_feature(cfeature.LAKES)\n",
    "ax.add_feature(cfeature.STATES)\n",
    "\n",
    "# SET FORMATTING FOR LATITUDE/LONGITUDE GRIDLINES & LABELS\n",
    "gl=ax.gridlines(draw_labels=True)\n",
    "gl.xformatter=LongitudeFormatter()\n",
    "gl.yformatter=LatitudeFormatter()\n",
    "\n",
    "plt.show()"
   ]
  },
  {
   "cell_type": "markdown",
   "id": "c34dfd79",
   "metadata": {},
   "source": [
    "## Block 10d: Add latitude/longitude gridlines & labels to global map of AOD550\n",
    "\n",
    "Now that we understand how to add and format gridlines and labels, we can add them to our global map of satellite data.\n",
    "\n",
    "Remember, depending on the audience for your map of satellite data, gridlines and labels may or may not be appropriate. For example, a figure for a webpage or slideshow presentation probably doesn't need the detail of grid labels, and may not need gridlines. But you would likely want to include gridlines and labels on a figure for a research paper or report.\n",
    "\n",
    "For my global map of AOD550 on the Mollweide projection using the \"rainbow\" colormap, I'm changing the color of the gridlines to \"silver\", so they will have contrast against the plotted AOD500 data but won't be distracting. I also need to increase the padding of the latitude labels (\"gl.ypadding=20\") so they all plot. And I changed the color of the longitude labels to white because when I saved the figure as an image file in Step 12, the black labels were hard to see against the AOD550 data."
   ]
  },
  {
   "cell_type": "code",
   "execution_count": null,
   "id": "fc310801",
   "metadata": {},
   "outputs": [],
   "source": [
    "fig = plt.figure(figsize=(10, 10))\n",
    "\n",
    "ax = plt.axes(projection=ccrs.Mollweide())\n",
    "\n",
    "ax.add_feature(cfeature.COASTLINE, lw=0.75, zorder=3)\n",
    "ax.add_feature(cfeature.BORDERS, lw=0.75, zorder=3)\n",
    "ax.add_feature(cfeature.LAKES, color='lightgrey')\n",
    "ax.add_feature(cfeature.STATES, lw=0.5, zorder=3)\n",
    "ax.add_feature(cfeature.LAND, color='grey')\n",
    "ax.add_feature(cfeature.OCEAN, color='lightgrey')\n",
    "\n",
    "gl=ax.gridlines(draw_labels=True, lw=0.25, color='silver')\n",
    "gl.xformatter=LongitudeFormatter()\n",
    "gl.yformatter=LatitudeFormatter()\n",
    "gl.right_labels=None\n",
    "gl.rotate_labels=None\n",
    "gl.ypadding=20\n",
    "gl.xlabel_style={'size': 8, 'color': 'white'}\n",
    "gl.ylabel_style={'size': 8}\n",
    "\n",
    "cmap = plt.get_cmap('rainbow').with_extremes(over='darkred')\n",
    "\n",
    "plot = ax.pcolormesh(ds.lon, ds.lat, ds.AOD550, cmap=cmap, vmin=-0.05, vmax=1, transform=ccrs.PlateCarree(), zorder=2)\n",
    "\n",
    "cb = fig.colorbar(plot, orientation='horizontal', fraction=0.2, pad=0.05, shrink=0.5, ticks=[0, 0.25, 0.5, 0.75, 1], extend='max')\n",
    "cb.set_label(label='Aerosol Optical Depth at 550nm', size=8, weight='bold')\n",
    "cb.ax.set_xticklabels(['0', '0.25', '0.50', '0.75', '1.0'])\n",
    "\n",
    "plt.show()"
   ]
  },
  {
   "cell_type": "markdown",
   "id": "85174334",
   "metadata": {},
   "source": [
    "## Step 11a: Add a plot title to global map of AOD550 (manual title, customized text settings)\n",
    "\n",
    "All plots need an informative title that communicates general information about the plotted data, and maps of satellite data are no exception.\n",
    "\n",
    "Let's begin by adding a title using Matplotlib that we set manually as a text string (\"image_title\"): \"plt.title(image_title)\".  We can customize the appearance of the plot title using Matplotlib's text settings to make the title text bolded in 8-point font, and with some padding (space) between the title and the top of the plot.\n",
    "\n",
    "Matplotlib text settings: __https://matplotlib.org/stable/tutorials/text/text_props.html__"
   ]
  },
  {
   "cell_type": "code",
   "execution_count": null,
   "id": "55a64687",
   "metadata": {},
   "outputs": [],
   "source": [
    "image_title = 'SNPP/VIIRS Aerosol Optical Depth at 550nm'\n",
    "\n",
    "fig = plt.figure(figsize=(10, 10))\n",
    "\n",
    "ax = plt.axes(projection=ccrs.Mollweide())\n",
    " \n",
    "ax.add_feature(cfeature.COASTLINE, lw=0.75, zorder=3)\n",
    "ax.add_feature(cfeature.BORDERS, lw=0.75, zorder=3)\n",
    "ax.add_feature(cfeature.LAKES, color='lightgrey')\n",
    "ax.add_feature(cfeature.STATES, lw=0.5, zorder=3)\n",
    "ax.add_feature(cfeature.LAND, color='grey')\n",
    "ax.add_feature(cfeature.OCEAN, color='lightgrey')\n",
    "\n",
    "gl=ax.gridlines(draw_labels=True, lw=0.25, color='silver')\n",
    "gl.xformatter=LongitudeFormatter()\n",
    "gl.yformatter=LatitudeFormatter()\n",
    "gl.right_labels=None\n",
    "gl.rotate_labels=None\n",
    "gl.ypadding=20\n",
    "gl.xlabel_style={'size': 8, 'color': 'white'}\n",
    "gl.ylabel_style={'size': 8}\n",
    "\n",
    "cmap = plt.get_cmap('rainbow').with_extremes(over='darkred')\n",
    "\n",
    "plot = ax.pcolormesh(ds.lon, ds.lat, ds.AOD550, cmap=cmap, vmin=-0.05, vmax=1, transform=ccrs.PlateCarree(), zorder=2)\n",
    "\n",
    "cb = fig.colorbar(plot, orientation='horizontal', fraction=0.2, pad=0.05, shrink=0.5, ticks=[0, 0.25, 0.5, 0.75, 1], extend='max')\n",
    "cb.set_label(label='Aerosol Optical Depth at 550nm', size=8, weight='bold')\n",
    "cb.ax.set_xticklabels(['0', '0.25', '0.50', '0.75', '1.0'])\n",
    "\n",
    "plt.title(image_title, pad=10, size=8, weight='bold')\n",
    "\n",
    "plt.show()"
   ]
  },
  {
   "cell_type": "markdown",
   "id": "bb6b03cf",
   "metadata": {},
   "source": [
    "## Step 11b: Use information in data file name to create plot title automatically (print file name)\n",
    "\n",
    "Setting a plot title manually works just fine, but it can quickly become tedious when working with multiple satellite data files on a regular basis. In addition, it's easy to inadvertently introduce errors when doing anything manually.\n",
    "\n",
    "So instead, we can use the information in satellite data file names to generate plot titles automatically. All satellite data file names contain key information about the observation, including the satellite, sensor, data product, and observation date & time. The format of satellite file names will vary depending on the satellite, but they all contain the same basic information.\n",
    "\n",
    "Let's print the file name of the VIIRS Level 3 data file we are working with in this tutorial, to decide what information we want to include in the plot title.\n",
    "\n",
    "Note that appending \".name\" to a **pathlib** object extracts a string representing the final path component (e.g., file name). "
   ]
  },
  {
   "cell_type": "code",
   "execution_count": null,
   "id": "ed76a4a9",
   "metadata": {},
   "outputs": [],
   "source": [
    "print(file_id.name)"
   ]
  },
  {
   "cell_type": "markdown",
   "id": "f10206d9",
   "metadata": {},
   "source": [
    "## Step 11c: Use information in data file name to create plot title automatically (extract & reformat information)\n",
    "\n",
    "For the plot title of the global map of AOD550, I'd like to specify the satellite (\"npp\"), the spatial resolution of the data (\"0.100_deg\"), and the observation date (\"20220911\").\n",
    "\n",
    "First, let's extract the satellite from the file name and reformat it, and extract the data resolution.\n",
    "\n",
    "To make our plot title easy to read, we should reformat the observation date from \"YYYYMMDD\" format to something more readable.  I like the \"DD Mon YYYY\" format, for example \"08 Jan 2023,\" because it avoids any confusion with the order of date abbreviations used in the US (MM/DD) and in Europe (DD/MM).\n",
    "\n",
    "We can use the **datetime** module to extract the date string in the file name as a datetime object and reformat it to our desired format, in this case \"DD Mon YYYY\" (\"%d %b %Y\"), using datetime format codes.\n",
    "\n",
    "**datetime** format codes: __https://docs.python.org/3/library/datetime.html#strftime-and-strptime-format-codes__\n",
    "\n",
    "Finally, we put the extracted information together to make the \"image_title\".\n",
    "\n",
    "Let's print the extracted information and the image title to check our work."
   ]
  },
  {
   "cell_type": "code",
   "execution_count": null,
   "id": "b3155604",
   "metadata": {},
   "outputs": [],
   "source": [
    "satellite = file_id.name.split('_')[2]\n",
    "if satellite == 'npp':\n",
    "    satellite_name = 'SNPP'\n",
    "elif satellite == 'noaa20':\n",
    "    satellite_name = 'NOAA-20'\n",
    "\n",
    "resolution = file_id.name.split('_')[4][:4]\n",
    "\n",
    "date = datetime.datetime.strptime(file_id.name.split('_')[6][:8], '%Y%m%d').date()\n",
    "date = date.strftime('%d %b %Y')\n",
    "\n",
    "image_title = satellite_name + '/VIIRS Aerosol Optical Depth (' + resolution +  '\\N{DEGREE SIGN} resolution)  ' + date\n",
    "\n",
    "print(satellite, satellite_name)\n",
    "print(resolution)\n",
    "print(date)\n",
    "print(image_title)"
   ]
  },
  {
   "cell_type": "markdown",
   "id": "a33a5102",
   "metadata": {},
   "source": [
    "## Step 11d: Add automatically-generated plot title to global map of AOD550\n",
    "\n",
    "Now that we know how to generate a plot title automatically, we can apply the code to our global map of AOD550. This code will automatically generate the appropriate plot title for any VIIRS Level 3 AOD data file, for any observation date, whether it is SNPP or NOAA-20 VIIRS data, or gridded at 0.10° or 0.25° resolution."
   ]
  },
  {
   "cell_type": "code",
   "execution_count": null,
   "id": "27a0e898",
   "metadata": {},
   "outputs": [],
   "source": [
    "satellite = file_id.name.split('_')[2]\n",
    "if satellite == 'npp':\n",
    "    satellite_name = 'SNPP'\n",
    "elif satellite == 'noaa20':\n",
    "    satellite_name = 'NOAA-20'    \n",
    "resolution = file_id.name.split('_')[4][:4]\n",
    "date = datetime.datetime.strptime(file_id.name.split('_')[6][:8], '%Y%m%d').date()\n",
    "date = date.strftime('%d %b %Y')\n",
    "image_title = satellite_name + '/VIIRS Aerosol Optical Depth (' + resolution +  '\\N{DEGREE SIGN} resolution)  ' + date\n",
    "\n",
    "fig = plt.figure(figsize=(10, 10))\n",
    "\n",
    "ax = plt.axes(projection=ccrs.Mollweide())\n",
    "\n",
    "ax.add_feature(cfeature.COASTLINE, lw=0.75, zorder=3)\n",
    "ax.add_feature(cfeature.BORDERS, lw=0.75, zorder=3)\n",
    "ax.add_feature(cfeature.LAKES, color='lightgrey')\n",
    "ax.add_feature(cfeature.STATES, lw=0.5, zorder=3)\n",
    "ax.add_feature(cfeature.LAND, color='grey')\n",
    "ax.add_feature(cfeature.OCEAN, color='lightgrey')\n",
    "\n",
    "gl=ax.gridlines(draw_labels=True, lw=0.25, color='silver')\n",
    "gl.xformatter=LongitudeFormatter()\n",
    "gl.yformatter=LatitudeFormatter()\n",
    "gl.right_labels=None\n",
    "gl.rotate_labels=None\n",
    "gl.ypadding=20\n",
    "gl.xlabel_style={'size': 8, 'color': 'white'}\n",
    "gl.ylabel_style={'size': 8}\n",
    "\n",
    "cmap = plt.get_cmap('rainbow').with_extremes(over='darkred')\n",
    "\n",
    "plot = ax.pcolormesh(ds.lon, ds.lat, ds.AOD550, cmap=cmap, vmin=-0.05, vmax=1, transform=ccrs.PlateCarree(), zorder=2)\n",
    "\n",
    "cb = fig.colorbar(plot, orientation='horizontal', fraction=0.2, pad=0.05, shrink=0.5, ticks=[0, 0.25, 0.5, 0.75, 1], extend='max')\n",
    "cb.set_label(label='Aerosol Optical Depth at 550nm', size=8, weight='bold')\n",
    "cb.ax.set_xticklabels(['0', '0.25', '0.50', '0.75', '1.0'])\n",
    "\n",
    "plt.title(image_title, pad=10, size=8, weight='bold')\n",
    "\n",
    "plt.show()"
   ]
  },
  {
   "cell_type": "markdown",
   "id": "a04c6392",
   "metadata": {},
   "source": [
    "## Step 12a: Save global map of AOD550 (manual saved file name, default settings)\n",
    "\n",
    "Now that we have created our beautiful image of satellite data, we need to save the image file so we can use the image in a research paper, presentation, website, or social media.\n",
    "\n",
    "Let's try saving the image file using Matplotlib's default settings, with a file name we set manually as a text string (\"saved_file_name\"): \"fig.savefig(saved_file_name)\". We immediately follow this command with \"plt.close()\" to close the current figure.  By default, the image file is saved to the \"current working directory\", where this Notebook file is located."
   ]
  },
  {
   "cell_type": "code",
   "execution_count": null,
   "id": "3410d7f9",
   "metadata": {},
   "outputs": [],
   "source": [
    "fig = plt.figure(figsize=(10, 10))\n",
    "\n",
    "ax = plt.axes(projection=ccrs.Mollweide())\n",
    " \n",
    "ax.add_feature(cfeature.COASTLINE, lw=0.75, zorder=3)\n",
    "ax.add_feature(cfeature.BORDERS, lw=0.75, zorder=3)\n",
    "ax.add_feature(cfeature.LAKES, color='lightgrey')\n",
    "ax.add_feature(cfeature.STATES, lw=0.5, zorder=3)\n",
    "ax.add_feature(cfeature.LAND, color='grey')\n",
    "ax.add_feature(cfeature.OCEAN, color='lightgrey')\n",
    "\n",
    "gl=ax.gridlines(draw_labels=True, lw=0.25, color='silver')\n",
    "gl.xformatter=LongitudeFormatter()\n",
    "gl.yformatter=LatitudeFormatter()\n",
    "gl.right_labels=None\n",
    "gl.rotate_labels=None\n",
    "gl.ypadding=20\n",
    "gl.xlabel_style={'size': 8, 'color': 'white'}\n",
    "gl.ylabel_style={'size': 8}\n",
    "\n",
    "cmap = plt.get_cmap('rainbow').with_extremes(over='darkred')\n",
    "\n",
    "plot = ax.pcolormesh(ds.lon, ds.lat, ds.AOD550, cmap=cmap, vmin=-0.05, vmax=1, transform=ccrs.PlateCarree(), zorder=2)\n",
    "\n",
    "cb = fig.colorbar(plot, orientation='horizontal', fraction=0.2, pad=0.05, shrink=0.5, ticks=[0, 0.25, 0.5, 0.75, 1], extend='max')\n",
    "cb.set_label(label='Aerosol Optical Depth at 550nm', size=8, weight='bold')\n",
    "cb.ax.set_xticklabels(['0', '0.25', '0.50', '0.75', '1.0'])\n",
    "\n",
    "satellite = file_id.name.split('_')[2]\n",
    "if satellite == 'npp':\n",
    "    satellite_name = 'SNPP'\n",
    "elif satellite == 'noaa20':\n",
    "    satellite_name = 'NOAA-20'    \n",
    "resolution = file_id.name.split('_')[4][:4]\n",
    "date = datetime.datetime.strptime(file_id.name.split('_')[6][:8], '%Y%m%d').date()\n",
    "date = date.strftime('%d %b %Y')\n",
    "image_title = satellite_name + '/VIIRS Aerosol Optical Depth (' + resolution +  '\\N{DEGREE SIGN} resolution)  ' + date\n",
    "plt.title(image_title, pad=10, size=8, weight='bold')\n",
    "\n",
    "plt.show()\n",
    "\n",
    "saved_file_name = 'aod_map_default_settings'\n",
    "fig.savefig(saved_file_name)\n",
    "\n",
    "plt.close()"
   ]
  },
  {
   "cell_type": "markdown",
   "id": "d721b669",
   "metadata": {},
   "source": [
    "## Step 12b: Save global map of AOD550 (manual saved file name, customized settings)\n",
    "\n",
    "Look in the Jupyter Notebook folder you are using for the training materials - you should see the saved .png file. The default settings make a very low resolution file, with a small file size. That might be ok if you are using the image in social media or on a webpage, but most likely you will want to generate higher resolution images.\n",
    "\n",
    "We can change the resolution of the saved image file using the \"dpi=\" argument in \"fig.savefig()\". The higher the dpi, the higher the figure resolution, but the larger the file size and the longer it will take to save the file. The default dpi=100.\n",
    "\n",
    "I find that \"dpi=300\" works well for general use. Try \"dpi=600\" for presentations, and \"dpi=1000\" for journal articles.\n",
    "\n",
    "We can also set the \"facecolor\" (background color) for the plot, and I like to set \"bbox_inches='tight'\" to minimize the bounding box around the figure (to zoom in \"tight\" on the plot).\n",
    "\n",
    "Matplotlib \"savefig\" settings: __https://matplotlib.org/stable/api/figure_api.html#matplotlib.figure.Figure.savefig__"
   ]
  },
  {
   "cell_type": "code",
   "execution_count": null,
   "id": "6b421940",
   "metadata": {},
   "outputs": [],
   "source": [
    "fig = plt.figure(figsize=(10, 10))\n",
    "\n",
    "ax = plt.axes(projection=ccrs.Mollweide())\n",
    "\n",
    "ax.add_feature(cfeature.COASTLINE, lw=0.75, zorder=3)\n",
    "ax.add_feature(cfeature.BORDERS, lw=0.75, zorder=3)\n",
    "ax.add_feature(cfeature.LAKES, color='lightgrey')\n",
    "ax.add_feature(cfeature.STATES, lw=0.5, zorder=3)\n",
    "ax.add_feature(cfeature.LAND, color='grey')\n",
    "ax.add_feature(cfeature.OCEAN, color='lightgrey')\n",
    "\n",
    "gl=ax.gridlines(draw_labels=True, lw=0.25, color='silver')\n",
    "gl.xformatter=LongitudeFormatter()\n",
    "gl.yformatter=LatitudeFormatter()\n",
    "gl.right_labels=None\n",
    "gl.rotate_labels=None\n",
    "gl.ypadding=40\n",
    "gl.xlabel_style={'size': 8, 'color': 'white'}\n",
    "gl.ylabel_style={'size': 8}\n",
    "\n",
    "cmap = plt.get_cmap('rainbow').with_extremes(over='darkred')\n",
    "\n",
    "plot = ax.pcolormesh(ds.lon, ds.lat, ds.AOD550, cmap=cmap, vmin=-0.05, vmax=1, transform=ccrs.PlateCarree(), zorder=2)\n",
    "\n",
    "cb = fig.colorbar(plot, orientation='horizontal', fraction=0.2, pad=0.05, shrink=0.5, ticks=[0, 0.25, 0.5, 0.75, 1], extend='max')\n",
    "cb.set_label(label='Aerosol Optical Depth at 550nm', size=8, weight='bold')\n",
    "cb.ax.set_xticklabels(['0', '0.25', '0.50', '0.75', '1.0'])\n",
    "\n",
    "satellite = file_id.name.split('_')[2]\n",
    "if satellite == 'npp':\n",
    "    satellite_name = 'SNPP'\n",
    "elif satellite == 'noaa20':\n",
    "    satellite_name = 'NOAA-20'   \n",
    "resolution = file_id.name.split('_')[4][:4]\n",
    "date = datetime.datetime.strptime(file_id.name.split('_')[6][:8], '%Y%m%d').date()\n",
    "date = date.strftime('%d %b %Y')\n",
    "image_title = satellite_name + '/VIIRS Aerosol Optical Depth (' + resolution +  '\\N{DEGREE SIGN} resolution)  ' + date\n",
    "plt.title(image_title, pad=10, size=8, weight='bold')\n",
    "\n",
    "plt.show()\n",
    "\n",
    "saved_file_name = 'aod_map_dpi=300'\n",
    "fig.savefig(saved_file_name, facecolor='w', dpi=300, bbox_inches='tight')\n",
    "\n",
    "plt.close()"
   ]
  },
  {
   "cell_type": "markdown",
   "id": "08950eb9",
   "metadata": {},
   "source": [
    "## Step 12c: Save global map of AOD550 (automatically generated saved file name, customized settings)\n",
    "### FINAL STEP!\n",
    "\n",
    "As with setting a plot title, entering a manual string for the saved file name quickly becomes tedious and can lead to accidental errors and overwriting of files. To avoid those errors, let's apply the same technique as in Step 11c to extract information from the satellite data file name and use it to construct a saved file name automatically.\n",
    "\n",
    "I like to include similar information in the saved file name as in the title, so I can tell by the saved file name what is in the figure. In this example, that includes the satellite (\"npp\"), sensor and product (\"viirs_aod\"), data spatial resolution (\"0.10-deg\"), and observation date (\"20220911\"). The difference is that we don't need to reformat this information for the saved file name, like we needed to for the plot title.\n",
    "\n",
    "Note that we can also specify the format for the saved file (\"saved_file_format\"). The default is a .png file, but Matplotlib has many options. Try saving your image file with a different format, such as .jpg or .pdf, to see the differences. \n",
    "\n",
    "Matplotlib saved file format options: .eps, .jpeg, .jpg, .pdf, .pgf, .png, .ps, .raw, .rgba, .svg, .svgz, .tif, .tiff\n",
    "\n",
    "**This is the final step! I included comments in the code below, to notate each step in the process of generating a beautiful image of VIIRS Level 3 satellite data.**"
   ]
  },
  {
   "cell_type": "code",
   "execution_count": null,
   "id": "1c0cd059",
   "metadata": {},
   "outputs": [],
   "source": [
    "# Set up figure in Matplotlib\n",
    "fig = plt.figure(figsize=(10, 10))\n",
    "\n",
    "# Set map projection\n",
    "ax = plt.axes(projection=ccrs.Mollweide())\n",
    "\n",
    "# Add simple coastlines & borders (1:110m coarse resolution)\n",
    "# \"zorder\" argument sets order for plotting layers (larger zorder plots over smaller zorder); default zorder=1.5 \n",
    "ax.add_feature(cfeature.COASTLINE, lw=0.75, zorder=3)\n",
    "ax.add_feature(cfeature.BORDERS, lw=0.75, zorder=3)\n",
    "ax.add_feature(cfeature.LAKES, color='lightgrey')\n",
    "ax.add_feature(cfeature.STATES, lw=0.5, zorder=3)\n",
    "ax.add_feature(cfeature.LAND, color='grey')\n",
    "ax.add_feature(cfeature.OCEAN, color='lightgrey')\n",
    "\n",
    "# Add customized latitude/longitude gridlines & labels using Cartopy\n",
    "gl=ax.gridlines(draw_labels=True, lw=0.25, color='silver')\n",
    "gl.xformatter=LongitudeFormatter()\n",
    "gl.yformatter=LatitudeFormatter()\n",
    "gl.right_labels=None\n",
    "gl.rotate_labels=None\n",
    "gl.ypadding=40\n",
    "gl.xlabel_style={'size': 8, 'color': 'white'}\n",
    "gl.ylabel_style={'size': 8}\n",
    "\n",
    "# Set colormap with unique color for data > vmax\n",
    "cmap = plt.get_cmap('rainbow').with_extremes(over='darkred')\n",
    "\n",
    "# Create pseudo-color plot of AOD data\n",
    "# The \"transform=ccrs.PlateCarree()\" argument tells Cartopy the AOD data are in geographic coordinates (lat/lon)\n",
    "# The \"zorder=2\" argument plots AOD data under coastlines/borders & over land/ocean/lakes polygons\n",
    "plot = ax.pcolormesh(ds.lon, ds.lat, ds.AOD550, cmap=cmap, vmin=-0.05, vmax=1, transform=ccrs.PlateCarree(), zorder=2)\n",
    "\n",
    "# Add colorbar\n",
    "cb = fig.colorbar(plot, orientation='horizontal', fraction=0.2, pad=0.05, shrink=0.5, ticks=[0, 0.25, 0.5, 0.75, 1], extend='max')\n",
    "cb.set_label(label='Aerosol Optical Depth at 550nm', size=8, weight='bold')\n",
    "cb.ax.set_xticklabels(['0', '0.25', '0.50', '0.75', '1.0'])\n",
    "\n",
    "# Create plot title automatically using information from file name\n",
    "# Extract satellite name and reformat\n",
    "satellite = file_id.name.split('_')[2]\n",
    "if satellite == 'npp':\n",
    "    satellite_name = 'SNPP'\n",
    "elif satellite == 'noaa20':\n",
    "    satellite_name = 'NOAA-20'\n",
    "# Extract data spatial resolution    \n",
    "resolution = file_id.name.split('_')[4][:4]\n",
    "# Use datetime module to extract obseration date & reformat\n",
    "date = datetime.datetime.strptime(file_id.name.split('_')[6][:8], '%Y%m%d').date()\n",
    "date = date.strftime('%d %b %Y')\n",
    "# Put extracted/reformated strings together to make image title\n",
    "image_title = satellite_name + '/VIIRS Aerosol Optical Depth (' + resolution +  '\\N{DEGREE SIGN} resolution)  ' + date\n",
    "# Add plot title\n",
    "plt.title(image_title, pad=10, size=8, weight='bold')\n",
    "\n",
    "# Show plot\n",
    "plt.show()\n",
    "\n",
    "# Save figure\n",
    "# \"dpi\" is image resolution in dots per inch\n",
    "# \"bbox_inches=tight\" sets a \"tight\" bounding box around saved image\n",
    "saved_file_format = '.png'\n",
    "saved_file_name = satellite + '_viirs_aod_' + resolution + '-deg_' + file_id.name.split('_')[6][:8] + saved_file_format\n",
    "fig.savefig(saved_file_name, facecolor='w', dpi=300, bbox_inches='tight')\n",
    "    \n",
    "# Close plot\n",
    "plt.close()"
   ]
  },
  {
   "cell_type": "code",
   "execution_count": null,
   "id": "38116680",
   "metadata": {},
   "outputs": [],
   "source": []
  }
 ],
 "metadata": {
  "celltoolbar": "Raw Cell Format",
  "kernelspec": {
   "display_name": "Python 3 (ipykernel)",
   "language": "python",
   "name": "python3"
  },
  "language_info": {
   "codemirror_mode": {
    "name": "ipython",
    "version": 3
   },
   "file_extension": ".py",
   "mimetype": "text/x-python",
   "name": "python",
   "nbconvert_exporter": "python",
   "pygments_lexer": "ipython3",
   "version": "3.9.12"
  },
  "varInspector": {
   "cols": {
    "lenName": 16,
    "lenType": 16,
    "lenVar": 40
   },
   "kernels_config": {
    "python": {
     "delete_cmd_postfix": "",
     "delete_cmd_prefix": "del ",
     "library": "var_list.py",
     "varRefreshCmd": "print(var_dic_list())"
    },
    "r": {
     "delete_cmd_postfix": ") ",
     "delete_cmd_prefix": "rm(",
     "library": "var_list.r",
     "varRefreshCmd": "cat(var_dic_list()) "
    }
   },
   "types_to_exclude": [
    "module",
    "function",
    "builtin_function_or_method",
    "instance",
    "_Feature"
   ],
   "window_display": false
  }
 },
 "nbformat": 4,
 "nbformat_minor": 5
}
