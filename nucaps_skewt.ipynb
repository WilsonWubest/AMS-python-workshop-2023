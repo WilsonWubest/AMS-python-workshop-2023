{
 "cells": [
  {
   "attachments": {},
   "cell_type": "markdown",
   "metadata": {},
   "source": [
    "# Tutorial to Work with a NUCAPS (NOAA-20) Sounding data file\n",
    "\n",
    "This code was written in December 2022 by Dr. Rebekah Esmaili, STC at NOAA/JPSS (rebekah.esmaili@noaa.gov) and Dr. Amy Huff, IMSG at NOAA/NESDIS/STAR (amy.huff@noaa.gov).\n",
    "\n",
    "This tutorial will demonstrate how to work with a NUCAPS Level 2 netCDF4 file, including how to work with multiple pressure levels.\n",
    "\n",
    "The main steps are:\n",
    "- Open the file\n",
    "- Read the global file metadata & the metadata for variables in the file\n",
    "- Extract a profile and make a Skew-T plot\n",
    "- Save image file"
   ]
  },
  {
   "attachments": {},
   "cell_type": "markdown",
   "metadata": {},
   "source": [
    "## Topic 1-2: Launch Jupyter Notebooks\n",
    "\n",
    "### Import Python packages\n",
    "\n",
    "We will use three Python packages (libraries) and two Python modules in this tutorial:\n",
    "- The **xarray** library is used to work with labelled multi-dimensional arrays\n",
    "- The **NumPy** library is used to perform array operations\n",
    "- The **Matplotlib** library is used to make plots\n",
    "- The **datetime** module is used to manipulate dates and times\n",
    "- The **pathlib** module is used to set filesystem paths for the user's operating system"
   ]
  },
  {
   "cell_type": "code",
   "execution_count": null,
   "metadata": {},
   "outputs": [],
   "source": [
    "import xarray as xr\n",
    "\n",
    "import numpy as np\n",
    "\n",
    "import matplotlib as mpl\n",
    "import matplotlib.pyplot as plt\n",
    "from matplotlib.colors import ListedColormap\n",
    "\n",
    "from pathlib import Path\n",
    "\n",
    "import cartopy.crs as ccrs\n",
    "\n",
    "import metpy.calc as mpcalc\n",
    "from metpy.units import units\n",
    "from metpy.plots import SkewT"
   ]
  },
  {
   "attachments": {},
   "cell_type": "markdown",
   "metadata": {},
   "source": [
    "### Set directory path and file name for satellite data file\n",
    "\n",
    "We set the directory path for the satellite data file using the **pathlib** module, which automatically uses the correct format for the user's operating system. This helps avoid errors in situations when more than one person is using the same code file, because Windows uses back slashes in directory paths, while MacOS and Linux use forward slashes. \n",
    "\n",
    "More information about the [**pathlib** module](https://docs.python.org/3/library/pathlib.html#module-pathlib).\n",
    "\n",
    "To keep things simple for this training, we put the satellite data files we downloaded in the current working directory (\"cwd\"), i.e., the same Jupyter Notebook folder where this code file is located.\n",
    "\n",
    "We set the \"directory_path\" as the current working directory and the \"file_name\" of the netCDF4 satellite data file, and then set the full path for the data file (\"file_id\") using **pathlib** syntax."
   ]
  },
  {
   "cell_type": "code",
   "execution_count": null,
   "metadata": {},
   "outputs": [],
   "source": [
    "directory_path = Path.cwd()\n",
    "file_name = 'NUCAPS-EDR_v3r0_j01_s202211291907510_e202211291908210_c202211291938370.nc'\n",
    "file_id = directory_path / file_name"
   ]
  },
  {
   "attachments": {},
   "cell_type": "markdown",
   "metadata": {},
   "source": [
    "## Topic 3: Understand the structure and contents of the file(s)\n",
    "\n",
    "### Open satellite data file using xarray & read metadata\n",
    "\n",
    "We open the satellite data file using \"xr.open_dataset\" and then print the file metadata. The contents of a satellite data file are called a \"Dataset\" in **xarray**, conventionally abbreviated as \"ds\". \n",
    "\n",
    "The global file metadata are listed under \"Attributes\".\n",
    "\n",
    "For any of the \"Data variables\" or \"Coordinates\", click on the attributes icon (little page) to see array metadata and the data repository icon (little server) to see an array summary.\n",
    "\n",
    "The satellite data in the file are displayed under \"Data variables\".  A data variable is called a \"DataArray\" in **xarray**, conventionally abbreviated as \"da\"."
   ]
  },
  {
   "cell_type": "code",
   "execution_count": null,
   "metadata": {},
   "outputs": [],
   "source": [
    "ds = xr.open_dataset(file_name, engine='netcdf4')\n",
    "ds"
   ]
  },
  {
   "attachments": {},
   "cell_type": "markdown",
   "metadata": {},
   "source": [
    "## Topic 4: Handling data arrays\n",
    "\n",
    "### Step 4.1: Understanding the structure of the NUCAPS file\n",
    "\n",
    "There are 120 ```Number_of_CrIS_FORs``` (thus, profiles) inside the NUCAPS file. Each profile has 100 pressure levels (inferred from ```Number_of_P_Levels```). We won't cover the other dimensions in the file.\n",
    "\n",
    "There are a lot of variables in this file (63). Let's also examine the quality flag (```Quality_Flag```), ```Latitude```, and ```Longitude```. Later, we'll examine air temperature (```Temperature```) and water vapor mixing ratio (```H2O_MR```)."
   ]
  },
  {
   "cell_type": "code",
   "execution_count": null,
   "metadata": {},
   "outputs": [],
   "source": [
    "lat = ds.Latitude\n",
    "lon = ds.Longitude\n",
    "qf = ds.Quality_Flag"
   ]
  },
  {
   "attachments": {},
   "cell_type": "markdown",
   "metadata": {},
   "source": [
    "### Step 4.2: Make a quick look map of the NUCAPS plan view\n",
    "\n",
    "Since we're working with higher dimensional data, let's start with a simple map to see where the NUCAPS data are located. The data are all one dimensional, so we can make a scatter plot to show the center point of each profile, which are color coded by the quality (```Quality_Flag=0``` are retrievals that passed QC)."
   ]
  },
  {
   "cell_type": "code",
   "execution_count": null,
   "metadata": {},
   "outputs": [],
   "source": [
    "plt.figure(figsize=[10,5])\n",
    "ax = plt.subplot(projection=ccrs.PlateCarree())\n",
    "ax.coastlines()\n",
    "\n",
    "plt.scatter(lon, lat, c=qf, vmin=0, vmax=1)\n",
    "\n",
    "plt.show()"
   ]
  },
  {
   "attachments": {},
   "cell_type": "markdown",
   "metadata": {},
   "source": [
    "### Step 4.3: A small diversion on creating custom color bar colors\n",
    "\n",
    "Since the data above are not continuous (there are two values, Pass and Fail quality control), we might have to create a custom colorbar for the data using ```mpl.colors.ListedColormap```, which is part of **Matplotlib**. We can either define the colors manually using their hexadecimal values or extract values from the Matplotlib's built-in colormaps. Below is a list of two colors, which is then passed into ```ListedColormap``` along with a name for the color map.\n",
    "\n",
    "If you want some advice on choosing colors, we recommend the [colorbrewer website](https://colorbrewer2.org/)!"
   ]
  },
  {
   "cell_type": "code",
   "execution_count": null,
   "metadata": {},
   "outputs": [],
   "source": [
    "# Create a new colormap\n",
    "colors = [\"#1b9e77\", \"#d95f02\"]\n",
    "my_cmap = mpl.colors.ListedColormap(colors, name=\"NUCAPS_QC\")"
   ]
  },
  {
   "cell_type": "code",
   "execution_count": null,
   "metadata": {},
   "outputs": [],
   "source": [
    "plt.figure(figsize=[10,5])\n",
    "ax = plt.subplot(projection=ccrs.PlateCarree())\n",
    "ax.coastlines()\n",
    "\n",
    "cbar = plt.scatter(lon, lat, c=qf, vmin=0, vmax=1, cmap=my_cmap)\n",
    "\n",
    "plt.colorbar(cbar, shrink=0.8, orientation='horizontal', ticks=range(2), label='Retrieval Quality').ax.set_xticklabels(['Pass', 'Fail'])\n",
    "\n",
    "plt.show()"
   ]
  },
  {
   "attachments": {},
   "cell_type": "markdown",
   "metadata": {},
   "source": [
    "### Step 4.4: Extracting variables needed to create a Skew-T diagram\n",
    "\n",
    "[Skew-T Log-P diagrams](https://www.weather.gov/source/zhu/ZHU_Training_Page/convective_parameters/skewt/skewtinfo.html) are a fast way of determining how stable the atmosphere is at a given location using profile measurements of temperature, moisture, and winds. Meteorologists routinely use [radiosondes](https://en.wikipedia.org/wiki/Radiosonde) attached to weather balloons for assimilation in weather models and to monitor for severe weather. Satellite sounding products like NUCAPS can measure temperature and moisture at about a 1km vertical resolution, but not winds. A [quick guide](http://cimss.ssec.wisc.edu/goes/OCLOFactSheetPDFs/QuickGuide_NUCAPS.pdf) is available to learn more about NUCAPS.\n",
    "\n",
    "The Skew-T diagram enables quick calculations of several derived stability parameters, which include [Convective Available Potential Energy](https://en.wikipedia.org/wiki/Convective_available_potential_energy) (CAPE), Convective Inhibition (CIN). High values of CAPE and low values of CIN indicate the possibility of severe thunderstorms.\n",
    "\n",
    "\n",
    "#### Step 4.4.1 Subsetting NUCAPS data using the pressure level and field of regard number\n",
    "\n",
    "Each NUCAPS file contains 120 profiles, one for each field of regard (FOR), but we only want to plot one profile on a Skew-T. So, we will need to subset the file. We can use the ```isel``` module from **xarray** to use an index to extract a single profile from the larger array. We can also select more than one value either by passing a list of indices or using the ```slice()``` command which will extract a range of values. Below is an example of how to extract a single footprint and subset of pressure levels for the air temperature variable:"
   ]
  },
  {
   "cell_type": "code",
   "execution_count": null,
   "metadata": {},
   "outputs": [],
   "source": [
    "ds.Temperature.isel(Number_of_CrIS_FORs=0, Number_of_P_Levels=slice(80,87))"
   ]
  },
  {
   "attachments": {},
   "cell_type": "markdown",
   "metadata": {},
   "source": [
    "Let's assume we have a meteorologist colleague who asked us to look at a specific profile (```Number_of_CrIS_FORs=82```) because the forecasts models indicated there might be some instability there. We'll save this data in a variable called ```footprint```."
   ]
  },
  {
   "cell_type": "code",
   "execution_count": null,
   "metadata": {},
   "outputs": [],
   "source": [
    "footprint = ds.sel(Number_of_CrIS_FORs=82)"
   ]
  },
  {
   "cell_type": "code",
   "execution_count": null,
   "metadata": {},
   "outputs": [],
   "source": [
    "type(footprint)"
   ]
  },
  {
   "attachments": {},
   "cell_type": "markdown",
   "metadata": {},
   "source": [
    "#### Step 4.4.2 Subsetting by variables & assigning their units using MetPy\n",
    "\n",
    "We'll use the ***MetPy*** package to create a Skew-T plot. Each skew T plot has two lines, temperature and dew point temperature, both as a function of pressure coordinates. NUCAPS has the air temperature variable and also water vapor mixing ratio. The water vapor mixing ratio needs to be converted to dew point temperature. We will also need to extract the vertical pressure.\n",
    "\n",
    "**MetPy** builds on the **pint** library and [uses units](https://unidata.github.io/MetPy/latest/tutorials/unit_tutorial.html) to convenient perform numerous weather data calculations. \n",
    "\n",
    "Each variable above needs to be:\n",
    "* extracted from the dataset\n",
    "* all the same length\n",
    "* assigned units\n",
    "\n",
    "First let's examine the units:"
   ]
  },
  {
   "cell_type": "code",
   "execution_count": null,
   "metadata": {},
   "outputs": [],
   "source": [
    "print(footprint.Temperature.values.shape, footprint.H2O_MR.shape, footprint.Pressure.shape)\n",
    "print(footprint.Temperature.units, footprint.H2O_MR.units, footprint.Pressure.units)"
   ]
  },
  {
   "attachments": {},
   "cell_type": "markdown",
   "metadata": {},
   "source": [
    "While the NUCAPS temperature is reported in Kelvin, Skew-T plots conventionally use Celsius, so we convert from Kelvin to Celsius on the second line. "
   ]
  },
  {
   "cell_type": "code",
   "execution_count": null,
   "metadata": {},
   "outputs": [],
   "source": [
    "T = np.flip(footprint.Temperature.values)*units('K')\n",
    "T=T.to(units.celsius)\n",
    "MR = np.flip(footprint.H2O_MR.values)*units('kg/kg')\n",
    "P = np.flip(footprint.Pressure.values)*units('millibar')"
   ]
  },
  {
   "attachments": {},
   "cell_type": "markdown",
   "metadata": {},
   "source": [
    "We'll have to use two functions to convert mixing ratio to dewpoint temperature. We first the water vapor mixing ratio convert to relative humidity (using ```mpcalc.relative_humidity_from_mixing_ratio```) and then we convert from relative humidity to dew point (using ```mpcalc.dewpoint_from_relative_humidity```). "
   ]
  },
  {
   "cell_type": "code",
   "execution_count": null,
   "metadata": {},
   "outputs": [],
   "source": [
    "RH = mpcalc.relative_humidity_from_mixing_ratio(P, T, MR)\n",
    "Td = mpcalc.dewpoint_from_relative_humidity(T, RH)"
   ]
  },
  {
   "attachments": {},
   "cell_type": "markdown",
   "metadata": {},
   "source": [
    "### Step 4.4.3: Subsetting NUCAPS to account for surface pressure\n",
    "\n",
    "The NUCAPS data are reported on a fixed pressure grid that spans from 0-1100 mb, which does not account for local topography. So, we will need to mask out values below the surface pressure, which is in the ```Surface_Pressure``` variable, and create a mask where ```P < Psurf``` (since Pressure decreases with height) (note: this process has been simplified for the purposes of the short course, here are full details on estimating the [surface pressure in NUCAPS](https://www.mdpi.com/2072-4292/12/20/3311)). We also remove all data above 100 mb since this above the planetary boundary layer."
   ]
  },
  {
   "cell_type": "code",
   "execution_count": null,
   "metadata": {},
   "outputs": [],
   "source": [
    "Psurf = footprint.Surface_Pressure.item()*units('millibar')\n",
    "mask = (P < Psurf) & (P > 100*units('millibar'))"
   ]
  },
  {
   "attachments": {},
   "cell_type": "markdown",
   "metadata": {},
   "source": [
    "We'll want only show temperature and water vapor data that are above the surface pressure. So, let's apply the mask to temperature, pressure, and dew point temperature:"
   ]
  },
  {
   "cell_type": "code",
   "execution_count": null,
   "metadata": {},
   "outputs": [],
   "source": [
    "P1 = P[mask]\n",
    "T1 = T[mask]\n",
    "Td1 = Td[mask]"
   ]
  },
  {
   "cell_type": "code",
   "execution_count": null,
   "metadata": {},
   "outputs": [],
   "source": [
    "P1.shape"
   ]
  },
  {
   "attachments": {},
   "cell_type": "markdown",
   "metadata": {},
   "source": [
    "## Topic 5-6: Making Composite (RGB) Images & Working with Map Projections\n",
    "\n",
    "These steps do not apply since we're working with hyperspectal sounder data! Images have 16 channels that span broader wavelength bands, hyperspectral sounders can have thousands of tiny bands. However, we can still apply what we learned about professional touches to images (Topic 7) to our Skew-T plots.\n",
    "\n",
    "## Topic 8: Creating Skew-T/Log-P Plots\n",
    "\n",
    "### Step 8.1: Create a simple Skew-T\n",
    "\n",
    "Finally, let's make a skew-T plot! The only new command is ```SkewT()```, which will return an axis that is projected onto the rotated Skew-T grid. We need two lines, one for temperature and one for dew point temperature."
   ]
  },
  {
   "cell_type": "code",
   "execution_count": null,
   "metadata": {},
   "outputs": [],
   "source": [
    "fig = plt.figure()\n",
    "skew = SkewT(fig)\n",
    "\n",
    "skew.plot(P1, T1, label='Temperature', color='tab:red', lw=2)\n",
    "skew.plot(P1, Td1, label='Dewpoint',  color='tab:blue', lw=2)\n",
    "\n",
    "plt.show()"
   ]
  },
  {
   "attachments": {},
   "cell_type": "markdown",
   "metadata": {},
   "source": [
    "### Step 8.2 Adding the parcel profile\n",
    "\n",
    "One of the benefits of the Skew-T diagram is we can quickly compare the environmental Temperature and Dew Point temperature with that of an adiabatic parcel, which can be added to our SkewT as a third line. MetPy conveniently also calculate the parcel profile using the surface temperature, dew point, and their pressure profile. The output is initially in Kelvin, so we convert back to Celsius using ```to('degC')```."
   ]
  },
  {
   "cell_type": "code",
   "execution_count": null,
   "metadata": {},
   "outputs": [],
   "source": [
    "# Shade CAPE/CIN\n",
    "prof = mpcalc.parcel_profile(P1, T1[0], Td1[0]).to('degC')"
   ]
  },
  {
   "attachments": {},
   "cell_type": "markdown",
   "metadata": {},
   "source": [
    "### Step 8.3 Adding labels for retrieval time and location, data units\n",
    "\n",
    "We have our parcel profile, but let's add a few addition professional touches to our plot. We'll add a title showing what time (```Time```) the profile was taken as well as the location (```Latitude``` and ```Longitude```). We'll use the strftime to convert the date time to display the day, month name, and year. We round the latitude and longitude to a single decimal place using ```round()``` since the original has more precision than is visually necessary. "
   ]
  },
  {
   "cell_type": "code",
   "execution_count": null,
   "metadata": {},
   "outputs": [],
   "source": [
    "timestr = footprint.Time.dt.strftime('%d %b %Y %H:%M UTC').item()\n",
    "locstr = \"(\"+str(footprint.Latitude.values.round(1))+\"$^\\circ$N, \"+str(np.abs(footprint.Longitude.values.round(1)))+\"$^\\circ$W)\""
   ]
  },
  {
   "attachments": {},
   "cell_type": "markdown",
   "metadata": {},
   "source": [
    "We combine the two string above into a single title. Let's also improve the look of the x and y axis. Finally, we'll increase the font size so it's easier to read. We can update the font size for **all** our plots in our notebook by using ```plt.rcParams.update()```."
   ]
  },
  {
   "cell_type": "code",
   "execution_count": null,
   "metadata": {},
   "outputs": [],
   "source": [
    "title = \"NUCAPS \"+timestr+\" \"+locstr\n",
    "xlabel = 'Temperature ($^\\circ$C)'\n",
    "ylabel = 'Pressure (mb)'\n",
    "\n",
    "plt.rcParams.update({'font.size': 20})"
   ]
  },
  {
   "attachments": {},
   "cell_type": "markdown",
   "metadata": {},
   "source": [
    "### Step 8.4: Creating a Skew-T with parcel profiles, a title, and axes labels\n",
    "\n",
    "Below we reuse the code from step 8.1 as the starting point. Some new features are the addition of a legend, explicit x and y limits, the parcel profile line, and the labels that we generated: "
   ]
  },
  {
   "cell_type": "code",
   "execution_count": null,
   "metadata": {},
   "outputs": [],
   "source": [
    "# Make plot -------\n",
    "fig = plt.figure(figsize=(10,10))\n",
    "skew = SkewT(fig, aspect='auto')\n",
    "\n",
    "skew.plot(P1, T1, label='Temperature', color='tab:red', lw=2)\n",
    "skew.plot(P1, Td1, label='Dewpoint',  color='tab:blue', lw=2)\n",
    "\n",
    "skew.ax.legend(loc='upper right')\n",
    "\n",
    "skew.ax.set_ylim(1000, 101)\n",
    "skew.ax.set_xlim(-40, 60)\n",
    "\n",
    "# Plot parcel profile\n",
    "skew.plot(P1, prof, c='k', linewidth=1, markersize=1, linestyle='dashed')\n",
    "\n",
    "skew.ax.set_xlabel('Temperature ($^\\circ$C)')\n",
    "skew.ax.set_ylabel('Pressure (mb)')\n",
    "skew.ax.set_title(title, pad=20)\n",
    "\n",
    "plt.show()"
   ]
  },
  {
   "attachments": {},
   "cell_type": "markdown",
   "metadata": {},
   "source": [
    "### Step 8.5: Labeling derived parameters\n",
    "\n",
    "For calculating CAPE, there are three important parameters, which per the [National Weather Service glossary](https://forecast.weather.gov/glossary.php) are:\n",
    "\n",
    "* Lifted Condensation Level (LCL): The pressure level at which a parcel of moist air becomes saturated when it is lifted dry adiabatically. This is the level in the atmosphere clouds will can form.\n",
    "* Level of Free Convection (LFC): The pressure level at which parcel of saturated air becomes warmer than the surrounding air and begins to rise freely.\n",
    "* Equilibrium Level (EL): The pressure level where the temperature of a rising air parcel again equals the temperature of the environment. This represents the top of thunderstorm updrafts.\n",
    "\n",
    "We can also these these values to calculate:\n",
    "\n",
    "* Convective Available Potential Energy (CAPE). A measure of the amount of energy available for convection. Higher values indicate greater potential for severe weather.\n",
    "* Convective INhibition (CIN). A measure of the amount of energy needed in order to initiate convection. High values decrease the potential for severe weather.\n",
    "\n",
    "There are a few ways to calculate CAPE, below we'll show surface-based CAPE.\n",
    "\n",
    "Again, we can employ **MetPy** to make these calculations:"
   ]
  },
  {
   "cell_type": "code",
   "execution_count": null,
   "metadata": {},
   "outputs": [],
   "source": [
    "# Calc lcl, cape vals\n",
    "lcl_pressure, lcl_temperature = mpcalc.lcl(P1[0], T1[0], Td1[0])\n",
    "lfc_pressure, lfc_temperature = mpcalc.lfc(P1, T1, Td1)\n",
    "el_pressure, el_temperature = mpcalc.el(P1, T1, Td1)\n",
    "\n",
    "sfc_cape, sfc_cin = mpcalc.surface_based_cape_cin(P1, T1, Td1)"
   ]
  },
  {
   "attachments": {},
   "cell_type": "markdown",
   "metadata": {},
   "source": [
    "LCL, LFC, and EL are expressed as points on the skew-T. We can add them to our plot using ```skew.plot()```.\n",
    "\n",
    "CAPE and CIN are calculated by integrating the area between the parcel line and environmental temperature line. Again, we use the ```round()``` command to show only two decimal places to avoid excessive precision. Let's create an annotation that displays the CAPE and CIN values. You may notice a "
   ]
  },
  {
   "cell_type": "code",
   "execution_count": null,
   "metadata": {},
   "outputs": [],
   "source": [
    "cape_label = 'SFC. CAPE: '+str(sfc_cape.magnitude.round())+' J/kg'\n",
    "cin_label = 'SFC. CIN: '+str(sfc_cin.magnitude.round())+' J/kg'\n",
    "\n",
    "cape_cin_label = cape_label + '\\n' + cin_label\n",
    "cape_cin_label"
   ]
  },
  {
   "attachments": {},
   "cell_type": "markdown",
   "metadata": {},
   "source": [
    "### Step 8.6: Adding the professional touches to the SkewT\n",
    "\n",
    "The top half of the code below is identical to Step 8.4.\n",
    "\n",
    "In addition to adding LCL, LFC, and EL points to the plot using ```skew.plot()```, we also annotate them using ```skew.ax.annotate()```. \n",
    "\n",
    "We also shade the areas that represent CAPE and CIN and annotate the values that each represents.\n"
   ]
  },
  {
   "cell_type": "code",
   "execution_count": null,
   "metadata": {},
   "outputs": [],
   "source": [
    "fig = plt.figure(figsize=(10,10))\n",
    "skew = SkewT(fig)\n",
    "\n",
    "skew.plot(P1, T1, label='Temperature', color='tab:red', lw=2)\n",
    "skew.plot(P1, Td1, label='Dewpoint',  color='tab:blue', lw=2)\n",
    "\n",
    "skew.ax.legend(loc='upper right')\n",
    "\n",
    "skew.ax.set_ylim(1000, 101)\n",
    "skew.ax.set_xlim(-40, 60)\n",
    "\n",
    "skew.plot(P1, prof, c='k', linewidth=1, markersize=1, linestyle='dashed')\n",
    "\n",
    "skew.ax.set_xlabel('Temperature ($^\\circ$C)')\n",
    "skew.ax.set_ylabel('Pressure (mb)')\n",
    "skew.ax.set_title(title, pad=20)\n",
    "\n",
    "# Plot EL, LFC, LCL\n",
    "skew.plot(el_pressure, el_temperature, marker='.', c='k', markersize=10)\n",
    "skew.plot(lfc_pressure, lfc_temperature, marker='.', c='k', markersize=10)\n",
    "skew.plot(lcl_pressure, lcl_temperature, marker='.', c='k', markersize=10)\n",
    "\n",
    "# Annotate EL, LFC, LCL\n",
    "skew.ax.annotate('EL', xy=(el_temperature, el_pressure), va=\"bottom\", ha=\"left\")\n",
    "skew.ax.annotate('LFC', xy=(lfc_temperature, lfc_pressure), va=\"bottom\", ha=\"left\")\n",
    "skew.ax.annotate('LCL', xy=(5, lcl_pressure))\n",
    "\n",
    "# Shade areas of CAPE and CIN\n",
    "skew.shade_cin(P1, T1, prof, Td1)\n",
    "skew.shade_cape(P1, T1, prof)\n",
    "\n",
    "# Plot sfc cape/cin values\n",
    "skew.ax.annotate(cape_cin_label, xy=(23, 900), va=\"bottom\", ha=\"left\", size=15, bbox=dict(boxstyle=\"round, pad=0.1\", fc=\"white\", ec=\"lightgrey\", lw=1))\n",
    "\n",
    "\n",
    "plt.show()"
   ]
  },
  {
   "cell_type": "code",
   "execution_count": null,
   "metadata": {},
   "outputs": [],
   "source": []
  }
 ],
 "metadata": {
  "kernelspec": {
   "display_name": "Python 3.11.0 ('notebook_demo')",
   "language": "python",
   "name": "python3"
  },
  "language_info": {
   "codemirror_mode": {
    "name": "ipython",
    "version": 3
   },
   "file_extension": ".py",
   "mimetype": "text/x-python",
   "name": "python",
   "nbconvert_exporter": "python",
   "pygments_lexer": "ipython3",
   "version": "3.11.0"
  },
  "orig_nbformat": 4,
  "vscode": {
   "interpreter": {
    "hash": "4589143d4cda0c8671911bd60c16dc1d10ec327722e7574bc882b745b51509b4"
   }
  }
 },
 "nbformat": 4,
 "nbformat_minor": 2
}
