{
 "cells": [
  {
   "cell_type": "markdown",
   "metadata": {},
   "source": [
    "# Check Version of Python & Packages for Short Course\n",
    "\n",
    "This short file will ensure that all of the required packages for the Short Course are installed correctly.\n",
    "\n",
    "Run the code below. It will import the the Python modules and packages (libraries) used in the Short Course, and it will print the version of these packages and the version of Python you are running. \n",
    "\n",
    "If you get an error message, that means one or more packages are not installed. Install the package indicated in the error message and re-run the code. Repeat until no errors occur."
   ]
  },
  {
   "cell_type": "code",
   "execution_count": null,
   "metadata": {
    "scrolled": true
   },
   "outputs": [],
   "source": [
    "import sys\n",
    "import matplotlib\n",
    "import netCDF4\n",
    "import cartopy\n",
    "import s3fs\n",
    "import xarray\n",
    "import requests\n",
    "import metpy\n",
    "\n",
    "print('Python version is', sys.version)\n",
    "print('Matplotlib version is', matplotlib.__version__)\n",
    "print('netCDF4 version is', netCDF4.__version__)\n",
    "print('Cartopy version is', cartopy.__version__)\n",
    "print('S3Fs version is', s3fs.__version__)\n",
    "print('Xarray version is', xarray.__version__)\n",
    "print('Requests version is', requests.__version__)\n",
    "print('metpy version is', metpy.__version__)"
   ]
  },
  {
   "cell_type": "code",
   "execution_count": null,
   "metadata": {
    "scrolled": true
   },
   "outputs": [],
   "source": []
  }
 ],
 "metadata": {
  "kernelspec": {
   "display_name": "Python 3 (ipykernel)",
   "language": "python",
   "name": "python3"
  },
  "language_info": {
   "codemirror_mode": {
    "name": "ipython",
    "version": 3
   },
   "file_extension": ".py",
   "mimetype": "text/x-python",
   "name": "python",
   "nbconvert_exporter": "python",
   "pygments_lexer": "ipython3",
   "version": "3.9.12"
  },
  "varInspector": {
   "cols": {
    "lenName": 16,
    "lenType": 16,
    "lenVar": 40
   },
   "kernels_config": {
    "python": {
     "delete_cmd_postfix": "",
     "delete_cmd_prefix": "del ",
     "library": "var_list.py",
     "varRefreshCmd": "print(var_dic_list())"
    },
    "r": {
     "delete_cmd_postfix": ") ",
     "delete_cmd_prefix": "rm(",
     "library": "var_list.r",
     "varRefreshCmd": "cat(var_dic_list()) "
    }
   },
   "types_to_exclude": [
    "module",
    "function",
    "builtin_function_or_method",
    "instance",
    "_Feature"
   ],
   "window_display": false
  }
 },
 "nbformat": 4,
 "nbformat_minor": 4
}
