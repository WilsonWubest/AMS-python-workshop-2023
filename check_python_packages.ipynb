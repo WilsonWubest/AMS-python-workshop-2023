{
 "cells": [
  {
   "attachments": {},
   "cell_type": "markdown",
   "metadata": {},
   "source": [
    "# Check Python Version & Packages for Short Course\n",
    "\n",
    "This simple code will print the current version of Python running on your computer. It will also verify if several Python packages (libraries), which are required for the short course, are installed. \n",
    "\n",
    "Please double check the version of each package installed on your computer, and make sure it is the recommended version listed in the [Pre-Training Actions](https://www.star.nesdis.noaa.gov/atmospheric-composition-training/training_AMS_Short_Course_2023.php#preTrainingActions) for the short course.\n",
    "\n",
    "If a package is not installed, an error message will appear when you run the code below. Install the indicated package and run the code again."
   ]
  },
  {
   "cell_type": "code",
   "execution_count": null,
   "metadata": {
    "scrolled": false
   },
   "outputs": [],
   "source": [
    "import sys\n",
    "import numpy\n",
    "import pandas\n",
    "import scikit-image\n",
    "import netCDF4\n",
    "import cartopy\n",
    "import s3fs\n",
    "import xarray\n",
    "import matplotlib\n",
    "import requests\n",
    "from datetime import timedelta\n",
    "import glob\n",
    "import metpy\n",
    "\n",
    "print('Python version is', sys.version)\n",
    "print('netCDF4 version is', netCDF4.__version__)\n",
    "print('Cartopy version is', cartopy.__version__)\n",
    "print('S3Fs version is', s3fs.__version__)\n",
    "print('Xarray version is', xarray.__version__)\n",
    "print('Matplotlib version is', matplotlib.__version__)\n",
    "print('Requests version is', requests.__version__)"
   ]
  },
  {
   "cell_type": "code",
   "execution_count": null,
   "metadata": {
    "scrolled": true
   },
   "outputs": [],
   "source": []
  }
 ],
 "metadata": {
  "kernelspec": {
   "display_name": "Python 3 (ipykernel)",
   "language": "python",
   "name": "python3"
  },
  "language_info": {
   "codemirror_mode": {
    "name": "ipython",
    "version": 3
   },
   "file_extension": ".py",
   "mimetype": "text/x-python",
   "name": "python",
   "nbconvert_exporter": "python",
   "pygments_lexer": "ipython3",
   "version": "3.9.12"
  },
  "varInspector": {
   "cols": {
    "lenName": 16,
    "lenType": 16,
    "lenVar": 40
   },
   "kernels_config": {
    "python": {
     "delete_cmd_postfix": "",
     "delete_cmd_prefix": "del ",
     "library": "var_list.py",
     "varRefreshCmd": "print(var_dic_list())"
    },
    "r": {
     "delete_cmd_postfix": ") ",
     "delete_cmd_prefix": "rm(",
     "library": "var_list.r",
     "varRefreshCmd": "cat(var_dic_list()) "
    }
   },
   "types_to_exclude": [
    "module",
    "function",
    "builtin_function_or_method",
    "instance",
    "_Feature"
   ],
   "window_display": false
  }
 },
 "nbformat": 4,
 "nbformat_minor": 4
}
