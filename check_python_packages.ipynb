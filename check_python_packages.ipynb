{
 "cells": [
  {
   "cell_type": "markdown",
   "metadata": {},
   "source": [
    "# Check Environment & Packages for Short Course\n",
    "\n",
    "Running the code in this short file will ensure you are operating Jupyter Notebook in the provided environment for the Short Course, and that all of the required packages installed correctly."
   ]
  },
  {
   "cell_type": "markdown",
   "metadata": {},
   "source": [
    "## 1. Check Environment\n",
    "\n",
    "Run the code below - it will print all of the Python environments on your computer. The **active environment** will be designated by an asterisk (\\*). Make sure the active environment is **\"python-workshop\"**.\n",
    "\n",
    "If the active environment is **not** \"python-workshop\", close Jupyter Notebook, activate the \"python-workshop\" environment via the Anaconda Prompt (Windows) or terminal (MacOS), and re-launch Jupyter Notebook; consult the detailed instructions on the \"Pre-Training Actions\" webpage:\n",
    "https://www.star.nesdis.noaa.gov/atmospheric-composition-training/training_AMS_Short_Course_2023.php#preTrainingActions"
   ]
  },
  {
   "cell_type": "code",
   "execution_count": 4,
   "metadata": {
    "ExecuteTime": {
     "end_time": "2022-12-16T21:57:05.140075Z",
     "start_time": "2022-12-16T21:57:00.835342Z"
    }
   },
   "outputs": [
    {
     "name": "stdout",
     "output_type": "stream",
     "text": [
      "# conda environments:\n",
      "#\n",
      "base                  *  C:\\ProgramData\\Anaconda3\n",
      "                         C:\\ProgramData\\Anaconda3.8\n",
      "amy                      C:\\Users\\Amy.Huff\\.conda\\envs\\amy\n",
      "python-workshop          C:\\Users\\Amy.Huff\\.conda\\envs\\python-workshop\n",
      "\n"
     ]
    }
   ],
   "source": [
    "!conda env list"
   ]
  },
  {
   "cell_type": "markdown",
   "metadata": {},
   "source": [
    "## 2. Check Packages\n",
    "\n",
    "Run the code below - it will import the Python modules and packages (libraries) used in the Short Course, and it will print the version of these packages and the version of Python running in the active environment (which should be \"python-workshop\").\n",
    "\n",
    "The package versions and the version of Python should match those listed in the provided \"environment.yml\" file; use a text editor to open the \"environment.yml\" file."
   ]
  },
  {
   "cell_type": "code",
   "execution_count": 15,
   "metadata": {
    "ExecuteTime": {
     "end_time": "2022-12-16T22:43:13.048022Z",
     "start_time": "2022-12-16T22:43:13.024674Z"
    },
    "scrolled": false
   },
   "outputs": [
    {
     "name": "stdout",
     "output_type": "stream",
     "text": [
      "Python version is 3.9.12 (main, Apr  4 2022, 05:22:27) [MSC v.1916 64 bit (AMD64)]\n",
      "NumPy version is 1.21.5\n",
      "Matplotlib version is 3.5.1\n",
      "netCDF4 version is 1.5.7\n",
      "h5netcdf version is 1.1.0\n",
      "Cartopy version is 0.18.0\n",
      "Pandas version is 1.4.2\n",
      "S3Fs version is 2022.5.0\n",
      "Xarray version is 0.20.1\n",
      "Requests version is 2.27.1\n"
     ]
    }
   ],
   "source": [
    "import sys\n",
    "import numpy\n",
    "import matplotlib\n",
    "import netCDF4\n",
    "import h5netcdf\n",
    "import cartopy\n",
    "import pandas\n",
    "import s3fs\n",
    "import xarray\n",
    "import requests\n",
    "\n",
    "print('Python version is', sys.version)\n",
    "print('NumPy version is', numpy.__version__)\n",
    "print('Matplotlib version is', matplotlib.__version__)\n",
    "print('netCDF4 version is', netCDF4.__version__)\n",
    "print('h5netcdf version is', h5netcdf.__version__)\n",
    "print('Cartopy version is', cartopy.__version__)\n",
    "print('Pandas version is', pandas.__version__)\n",
    "print('S3Fs version is', s3fs.__version__)\n",
    "print('Xarray version is', xarray.__version__)\n",
    "print('Requests version is', requests.__version__)"
   ]
  },
  {
   "cell_type": "code",
   "execution_count": null,
   "metadata": {},
   "outputs": [],
   "source": []
  }
 ],
 "metadata": {
  "kernelspec": {
   "display_name": "Python 3 (ipykernel)",
   "language": "python",
   "name": "python3"
  },
  "language_info": {
   "codemirror_mode": {
    "name": "ipython",
    "version": 3
   },
   "file_extension": ".py",
   "mimetype": "text/x-python",
   "name": "python",
   "nbconvert_exporter": "python",
   "pygments_lexer": "ipython3",
   "version": "3.9.12"
  },
  "varInspector": {
   "cols": {
    "lenName": 16,
    "lenType": 16,
    "lenVar": 40
   },
   "kernels_config": {
    "python": {
     "delete_cmd_postfix": "",
     "delete_cmd_prefix": "del ",
     "library": "var_list.py",
     "varRefreshCmd": "print(var_dic_list())"
    },
    "r": {
     "delete_cmd_postfix": ") ",
     "delete_cmd_prefix": "rm(",
     "library": "var_list.r",
     "varRefreshCmd": "cat(var_dic_list()) "
    }
   },
   "types_to_exclude": [
    "module",
    "function",
    "builtin_function_or_method",
    "instance",
    "_Feature"
   ],
   "window_display": false
  }
 },
 "nbformat": 4,
 "nbformat_minor": 4
}
