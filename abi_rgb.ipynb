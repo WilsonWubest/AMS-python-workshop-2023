{
 "cells": [
  {
   "cell_type": "markdown",
   "id": "27141a9a",
   "metadata": {},
   "source": [
    "# Tutorial to Work with a GOES-R (Geostationary) ABI Level 2 Data File\n",
    "\n",
    "This tutorial was written in December 2022 by Dr. Rebekah Esmaili, STC at NOAA/JPSS (rebekah.esmaili@noaa.gov) and Dr. Amy Huff, IMSG at NOAA/NESDIS/STAR (amy.huff@noaa.gov). It demonstrates how to work with an ABI Level 2 netCDF4 file, including how to work with the ABI fixed grid/GOES Imager projection and what aspects to consider when making beautiful composite color (RGB) imagery.\n",
    "\n",
    "The main steps are:\n",
    "- Open the file\n",
    "- Read the global file metadata & the metadata for variables in the file\n",
    "    - Recognize the GOES Imager fixed grid projection variables\n",
    "- Combine ABI band data variables to make different types of composite RGB imagery\n",
    "- Plot composite RGB imagery using the native geostationary map projection\n",
    "- Save image file"
   ]
  },
  {
   "cell_type": "markdown",
   "id": "a9807f46",
   "metadata": {},
   "source": [
    "## Topic 1: Getting Started with Jupyter Notebook"
   ]
  },
  {
   "cell_type": "markdown",
   "id": "cc9c11b0",
   "metadata": {},
   "source": [
    "### Step 1.1: Import Python packages\n",
    "\n",
    "We will use four Python packages (libraries) and two Python modules in this tutorial:\n",
    "- The **xarray** library is used to work with labelled multi-dimensional arrays\n",
    "- The **NumPy** library is used to perform array operations\n",
    "- The **Matplotlib** library is used to make plots\n",
    "- The **Cartopy** library is used to create maps\n",
    "- The **datetime** module is used to manipulate dates and times\n",
    "- The **pathlib** module is used to set filesystem paths for the user's operating system"
   ]
  },
  {
   "cell_type": "code",
   "execution_count": null,
   "id": "4b0fc78d",
   "metadata": {},
   "outputs": [],
   "source": [
    "import xarray as xr\n",
    "\n",
    "import numpy as np\n",
    "\n",
    "from matplotlib import pyplot as plt\n",
    "\n",
    "from cartopy import crs as ccrs\n",
    "import cartopy.feature as cfeature\n",
    "\n",
    "import datetime\n",
    "\n",
    "from pathlib import Path\n",
    "\n",
    "import warnings\n",
    "warnings.filterwarnings('ignore')"
   ]
  },
  {
   "cell_type": "markdown",
   "id": "16af451c",
   "metadata": {},
   "source": [
    "### Step 1.2: Set directory path for satellite data file\n",
    "\n",
    "We set the directory path for the satellite data files using the [pathlib module](https://docs.python.org/3/library/pathlib.html#module-pathlib), which automatically uses the correct format for the user's operating system. This helps avoid errors in situations when more than one person is using the same code file, because Windows uses back slashes in directory paths, while MacOS and Linux use forward slashes. \n",
    "\n",
    "To keep things simple for this training, we put the satellite data files we downloaded in the current working directory (```Path.cwd()```), i.e., the same Jupyter Notebook folder where this code file is located."
   ]
  },
  {
   "cell_type": "code",
   "execution_count": null,
   "id": "01063333",
   "metadata": {},
   "outputs": [],
   "source": [
    "directory_path = Path.cwd()"
   ]
  },
  {
   "cell_type": "markdown",
   "id": "a2f62653",
   "metadata": {},
   "source": [
    "## Topic 3: Understanding the Structure & Contents of netCDF Data Files"
   ]
  },
  {
   "cell_type": "markdown",
   "id": "0242be85",
   "metadata": {},
   "source": [
    "### Step 3.1: Open an ABI MCMIP satellite data file using xarray & read metadata\n",
    "\n",
    "Let's use **xarray** to open one of the VIIRS fires data files we downloaded (```file_name```). We set the full path for the data file (```file_id```) using **pathlib** syntax.\n",
    "\n",
    "We open the satellite data file using ```xr.open_dataset``` and then print the file metadata. The contents of a satellite data file are called a \"Dataset\" in **xarray**, conventionally abbreviated as ```ds```. \n",
    "\n",
    "The global file metadata are listed under ```Attributes```.\n",
    "\n",
    "For any of the ```Data variables``` or ```Coordinates```, click on the attributes icon to see array metadata and the data repository icon to see an array summary.\n",
    "\n",
    "The satellite data in the file are displayed under \"Data variables\".  A data variable is called a \"DataArray\" in **xarray**, conventionally abbreviated as ```da```. We are going to focus on the Cloud and Moisture Imagery (CMI) for the 16 ABI bands, also called channels (C); for example, ```CMI_C01``` is the CMI reflectance value for band (channel) 1.  We will also need the information in the ```goes_imager_projection``` data variable, which are constants that describe the fixed ABI grid for the GOES-16 satellite geostationary projection.\n",
    "\n",
    "Notice that there are no arrays for latitude or longitude in the ```Coordinates```.  To save file space, ABI L1b and L2 data files do not contain latitude and longitude. "
   ]
  },
  {
   "cell_type": "code",
   "execution_count": null,
   "id": "0fda2e3c",
   "metadata": {},
   "outputs": [],
   "source": [
    "file_name = 'OR_ABI-L2-MCMIPM2-M6_G16_s20223362030552_e20223362031017_c20223362031113.nc'\n",
    "file_id = directory_path / file_name\n",
    "\n",
    "ds = xr.open_dataset(file_id, engine='netcdf4')\n",
    "ds"
   ]
  },
  {
   "cell_type": "markdown",
   "id": "d4dd7a95",
   "metadata": {},
   "source": [
    "### Step 3.2: Print ABI channel 1 metadata\n",
    "\n",
    "The GOES-16 ABI instrument has [16 bands or channels](https://www.goes-r.gov/mission/ABI-bands-quick-info.html). Each channel has a central wavelength that were selected to target certain atmospheric phenomena. For example, Channel 1 has a central wavelength of 0.47 µm. In the file, the channels are abbreviated as ```CMI_C01```, ```CMI_C02```, ..., ```CMI_C16```. \n",
    "\n",
    "Let's look at the attributes of band 1 to learn more about the variable. Note, units set to '1' means the variable is a unitless quantity. "
   ]
  },
  {
   "cell_type": "code",
   "execution_count": null,
   "id": "73d29eaf",
   "metadata": {},
   "outputs": [],
   "source": [
    "ds.CMI_C01.attrs"
   ]
  },
  {
   "cell_type": "markdown",
   "id": "6c5fd9a6",
   "metadata": {},
   "source": [
    "### Step 3.3: Print ABI channel 13 metadata\n",
    "\n",
    "From the ```long_name```, we learned that the data are reflectances for band 1. Reflectance is the amount quantity of incoming radiation at that particular wavelength that is reflected back up and ranges from 0.0 (absorbing) to 1.0 (reflective). Reflectance is a common variable for visible and near-IR bands (ABI channels 1-6) whereas IR bands (ABI channels 7-16) are reported in brightness temperature, which is expressed in Kelvin."
   ]
  },
  {
   "cell_type": "code",
   "execution_count": null,
   "id": "6f6f4f8e",
   "metadata": {},
   "outputs": [],
   "source": [
    "ds.CMI_C13.attrs"
   ]
  },
  {
   "cell_type": "markdown",
   "id": "c26f2337",
   "metadata": {},
   "source": [
    "## Topic 4: Handling Data Arrays"
   ]
  },
  {
   "cell_type": "markdown",
   "id": "c4f432cb",
   "metadata": {},
   "source": [
    "### Overview: How to create an RGB plot\n",
    "\n",
    "To make an red-green-blue (RGB) composite plot, we will need to define three arrays, one for each color. We can use the ```imshow``` function within **Matplotlib** to display an image of 3 two-dimensional arrays, each representing red, green, and blue.\n",
    "\n",
    "Each of these arrays must:\n",
    "* Have data values that span 0.0-1.0\n",
    "* Be two-dimensional and the same size\n",
    "* Be stacked \"horizontally\" or on the third dimension. The shape of the final array will be (X,Y,3)"
   ]
  },
  {
   "cell_type": "markdown",
   "id": "d5d6ff96",
   "metadata": {},
   "source": [
    "### Step 4.1: Explore a simple example of an RGB plot\n",
    "\n",
    "Let's explore a simple example of how to create an RGB plot. We'll populate 2x2 arrays with fake values."
   ]
  },
  {
   "cell_type": "code",
   "execution_count": null,
   "id": "627ba4c8",
   "metadata": {},
   "outputs": [],
   "source": [
    "# top left | top right | bottom left | bottom right\n",
    "red   = np.array( [ [ 1.0, 0.0 ], [ 0.0, 1.0] ] )\n",
    "green = np.array( [ [ 0.0, 1.0 ], [ 0.0, 0.0] ] )\n",
    "blue  = np.array( [ [ 0.0, 0.0 ], [ 1.0, 1.0] ] )\n",
    "\n",
    "rgb = np.dstack([red, green, blue])\n",
    "\n",
    "print(rgb.shape)"
   ]
  },
  {
   "cell_type": "markdown",
   "id": "266ccb8c",
   "metadata": {},
   "source": [
    "#### Step 4.1.1: Plot example data\n",
    "\n",
    "```np.dstack()``` concatenates the given arrays horizontally. This function is also equivalent to ```np.stack([red, green,blue], axis=2)```. A quick check of the shape above shows it meets the shape requirements (X,Y,3) and the data we entered into the arrays is between 0 and 1. If the data are outside of that range, they are automatically \"clipped\" 1.0. It's best to manually scale the data though to make sure you're getting the results that you expect."
   ]
  },
  {
   "cell_type": "code",
   "execution_count": null,
   "id": "c68f6171",
   "metadata": {},
   "outputs": [],
   "source": [
    "plt.figure()\n",
    "plt.imshow(rgb)\n",
    "plt.show()"
   ]
  },
  {
   "cell_type": "markdown",
   "id": "374c928f",
   "metadata": {},
   "source": [
    "### Step 4.2: Check minimum and maximum values in the ABI channel 1 data array\n",
    "\n",
    "Let's check the values in one of the channels in our ABI satellite data array. Do the min and max lie within 0 and 1?"
   ]
  },
  {
   "cell_type": "code",
   "execution_count": null,
   "id": "a233c638",
   "metadata": {},
   "outputs": [],
   "source": [
    "ds['CMI_C01'].values.min(), ds['CMI_C01'].values.max()"
   ]
  },
  {
   "cell_type": "markdown",
   "id": "cb7ca018",
   "metadata": {},
   "source": [
    "### Step 4.3: Check dimensions of data arrays in ABI MCMIP data file\n",
    "\n",
    "Next, let's check the dimensions of the individual data arrays in the ABI MCIMIP file. In this file, all the data arrays are the same size (this is not true for all files!). Let's compare channels 1, 2, and 3.\n",
    "\n",
    "We'll stack the three channels and check the shape of the stacked array in the next section!"
   ]
  },
  {
   "cell_type": "code",
   "execution_count": null,
   "id": "161de254",
   "metadata": {},
   "outputs": [],
   "source": [
    "ds['CMI_C01'].shape, ds['CMI_C02'].shape, ds['CMI_C03'].shape"
   ]
  },
  {
   "cell_type": "markdown",
   "id": "898aad29",
   "metadata": {},
   "source": [
    "#### Step 4.4.1: How to change the size of data arrays\n",
    "\n",
    "In this file, the data arrays all have the same dimensions (500, 500), so we can continue. If the arrays were not the same size, then some or all of the data would need to be re-gridded. For illustrative purposes, let's say we want to coarsen channel 1 by a factor of 2. We could change the size using **numpy** indexing:"
   ]
  },
  {
   "cell_type": "code",
   "execution_count": null,
   "id": "aa5587e9",
   "metadata": {},
   "outputs": [],
   "source": [
    "ch1 = ds['CMI_C01']\n",
    "ch1_resize = ch1[::2,::2]\n",
    "ch1.shape, ch1_resize.shape"
   ]
  },
  {
   "cell_type": "markdown",
   "id": "f4f4462d",
   "metadata": {},
   "source": [
    "A similar method would be to use **xarray's** ```coarsen``` function. The code below reduces the resolution by a factor of 2 and takes the mean of the original values."
   ]
  },
  {
   "cell_type": "code",
   "execution_count": null,
   "id": "f56bcafe",
   "metadata": {},
   "outputs": [],
   "source": [
    "ch1_coarsen = ch1.coarsen(x=2, y=2).mean()\n",
    "ch1_coarsen.shape"
   ]
  },
  {
   "cell_type": "markdown",
   "id": "6c9a8ea4",
   "metadata": {},
   "source": [
    "## Topic 5: Making Composite (RGB) Images"
   ]
  },
  {
   "cell_type": "markdown",
   "id": "fa1f0304",
   "metadata": {},
   "source": [
    "### True Color RGB Overview\n",
    "\n",
    "True color imagery has delighted both scientists and the public since the beginning of the satellite age. These images are constructed from three layers, which respectively are red, green, and blue. To learn more, check out the [True Color RGB quick guide](https://cimss.ssec.wisc.edu/goes/OCLOFactSheetPDFs/ABIQuickGuide_CIMSSRGB_v2.pdf) from Colorado State University's Cooperative Institute for Research in the Atmosphere.\n",
    "\n",
    "For the GOES-16 ABI, we'll need the following \"recipe\" to make a True Color image:\n",
    "\n",
    "|Color|central wavelength (µm)|channel | min - max (reflectance) | gamma |\n",
    "|----|---|---|---|---|\n",
    "|Red |0.64|2|0-1|1|\n",
    "|Green|0.45\\*Red + 0.1\\*Veggie + 0.45\\*Blue|2,3,1|0-1|1|\n",
    "|Blue|0.47|1|0-1|1|"
   ]
  },
  {
   "cell_type": "markdown",
   "id": "0be6045c",
   "metadata": {},
   "source": [
    "### Step 5.1: Extract ABI channel 1, 2, and 3 data arrays\n",
    "\n",
    "The GOES-R series ABI sensor does not have a channel that detects the green wavelengths. Instead, it can be derived from a linear relationship between the red, blue, and another nicknamed the veggie channel. Let's extract these data arrays from our dataset."
   ]
  },
  {
   "cell_type": "code",
   "execution_count": null,
   "id": "655f8c85",
   "metadata": {},
   "outputs": [],
   "source": [
    "ch1 = ds.CMI_C01\n",
    "ch2 = ds.CMI_C02\n",
    "ch3 = ds.CMI_C03"
   ]
  },
  {
   "cell_type": "markdown",
   "id": "fb76a276",
   "metadata": {},
   "source": [
    "### Step 5.2: Linearly combine the 3 arrays\n",
    "As we discussed in Step 3.3, since these are in the visible/Near IR bands, the values are reflectances and thus unitless; they already span 0-1. We also already checked the shape and size in Step 4.3. If the arrays were not the same size, the next step would return an error. \n",
    "\n",
    "Use the formula in the table above to linearly combine the three arrays:"
   ]
  },
  {
   "cell_type": "code",
   "execution_count": null,
   "id": "13f1ca54",
   "metadata": {},
   "outputs": [],
   "source": [
    "green = 0.45*ch2 + 0.1*ch3 + 0.45*ch1"
   ]
  },
  {
   "cell_type": "markdown",
   "id": "84bdd773",
   "metadata": {},
   "source": [
    "### Step 5.3: Check the range of green channel values\n",
    "\n",
    "Is this new green channel still in range? Let's check:"
   ]
  },
  {
   "cell_type": "code",
   "execution_count": null,
   "id": "256bb670",
   "metadata": {},
   "outputs": [],
   "source": [
    "green.values.min(), green.values.max()"
   ]
  },
  {
   "cell_type": "markdown",
   "id": "c94289d8",
   "metadata": {},
   "source": [
    "### Step 5.4: Combine (stack) the three data arrays\n",
    "\n",
    "We can use ```np.dstack``` to combine the three arrays into a single 3D array. We must stack in order of red, green, blue layers:"
   ]
  },
  {
   "cell_type": "code",
   "execution_count": null,
   "id": "ecfbab17",
   "metadata": {},
   "outputs": [],
   "source": [
    "tc_RGB = np.dstack([ch2, green, ch1])"
   ]
  },
  {
   "cell_type": "markdown",
   "id": "6cbda0d1",
   "metadata": {},
   "source": [
    "### Step 5.5: Make a quick plot using Matplotlib\n",
    "\n",
    "Let's make a quick plot using ```plt.imshow```. Each of the three arrays will be respectively converted into red, green, and blue to create a color image."
   ]
  },
  {
   "cell_type": "code",
   "execution_count": null,
   "id": "700d4c82",
   "metadata": {},
   "outputs": [],
   "source": [
    "plt.figure()\n",
    "plt.imshow(tc_RGB)\n",
    "plt.show()"
   ]
  },
  {
   "cell_type": "markdown",
   "id": "23c222cb",
   "metadata": {},
   "source": [
    "### Step 5.6: Adjust image luminance using gamma correction\n",
    "\n",
    "We can see some features in the scene such as clouds and the underlying surface. However, the above image is a quite dark. This can be adjusted using an image gamma correction. Gamma adjusts the luminance in images. It can be calculated from the formula:\n",
    "\n",
    "$$ layer_{adj} = { layer^{1 \\over \\gamma} } $$\n",
    "\n",
    "Where gamma is expressed as ($\\gamma$). Higher gamma values will brighten that color array while lower ones will darken. Let's arbitrarily pick a gamma of 2 to increase the brightness of the image:"
   ]
  },
  {
   "cell_type": "code",
   "execution_count": null,
   "id": "e9e49b30",
   "metadata": {},
   "outputs": [],
   "source": [
    "gamma = 2\n",
    "tc_RGB_gamma = np.power(tc_RGB, 1/gamma)\n",
    "\n",
    "plt.figure()\n",
    "plt.imshow(tc_RGB_gamma)\n",
    "plt.show()"
   ]
  },
  {
   "cell_type": "markdown",
   "id": "15172653",
   "metadata": {},
   "source": [
    "### Dust RGB Overview\n",
    "\n",
    "Just because we're working in RGB space doesn't limit us to only using the red, green, blue channels. We can combine any of the ABI channels to produce imagery. Since some channels are more sensitive to atmospheric constituents than others, RGB images can help distinguish natural features. We can also employ channel differencing to highlight specific atmospheric features.\n",
    "\n",
    "Let's create a dust RGB image of the same scene next. The recipe below comes from CIRA's [Dust RGB quick guide](https://rammb.cira.colostate.edu/training/visit/quick_guides/Dust_RGB_Quick_Guide.pdf).\n",
    "\n",
    "|color layer|central wavelength (µm)|channel | min - max (K) | gamma |\n",
    "|----|---|---|---|---|\n",
    "|Red |12.3 - 10.3|15 - 13| -6.7 to 2.6 |1|\n",
    "|Green|11.2 - 8.2|14 - 11| -0.5 to 20.0 |2.5|\n",
    "|Blue|10.3 |13 | 261.2 to 288.7 |1|"
   ]
  },
  {
   "cell_type": "markdown",
   "id": "d33de2a3",
   "metadata": {},
   "source": [
    "### Step 5.7: Extract ABI channel 11, 13, 14, and 15 data arrays\n",
    "\n",
    "Just like before, let's extract the channels we need:"
   ]
  },
  {
   "cell_type": "code",
   "execution_count": null,
   "id": "1bb96043",
   "metadata": {},
   "outputs": [],
   "source": [
    "ch11 = ds.CMI_C11\n",
    "ch13 = ds.CMI_C13\n",
    "ch14 = ds.CMI_C14\n",
    "ch15 = ds.CMI_C15"
   ]
  },
  {
   "cell_type": "markdown",
   "id": "313307c3",
   "metadata": {},
   "source": [
    "### Step 5.8: Find ABI channel 15-13 difference for red layer\n",
    "\n",
    "From the row describing the red layer in the table above, we will need to take the difference of channels 15 and 13:"
   ]
  },
  {
   "cell_type": "code",
   "execution_count": null,
   "id": "231b31c2",
   "metadata": {},
   "outputs": [],
   "source": [
    "img = ch15-ch13"
   ]
  },
  {
   "cell_type": "markdown",
   "id": "77b15338",
   "metadata": {},
   "source": [
    "### Step 5.9: Normalize Red layer values\n",
    "\n",
    "Because we are using ABI IR bands, the data are in brightness temperature. Thus, we will need to normalize the data [using the given min max ranges](https://en.wikipedia.org/wiki/Feature_scaling#Rescaling_(min-max_normalization)) so that it's on a 0 to 1 scale. This will look like:\n",
    "\n",
    "$$ X_{norm} = {X - X_{min} \\over X_{max} - X_{min} } $$"
   ]
  },
  {
   "cell_type": "code",
   "execution_count": null,
   "id": "4e78a403",
   "metadata": {},
   "outputs": [],
   "source": [
    "lower_val = -6.7\n",
    "upper_val = 2.6\n",
    "\n",
    "# Sets all data above 2.6 to 1.0 and all data below -6.7 to 0:\n",
    "img_clip = np.clip(img, lower_val, upper_val)\n",
    "# Normalizes the clipped data\n",
    "normalized_red = (img_clip-lower_val)/(upper_val-lower_val)"
   ]
  },
  {
   "cell_type": "markdown",
   "id": "8dbb93b1",
   "metadata": {},
   "source": [
    "### Step 5.10: Check range of normalized Red layer values\n",
    "\n",
    "Let's check if these values are in range:"
   ]
  },
  {
   "cell_type": "code",
   "execution_count": null,
   "id": "32c90c20",
   "metadata": {},
   "outputs": [],
   "source": [
    "normalized_red.values.min(), normalized_red.values.max()"
   ]
  },
  {
   "cell_type": "markdown",
   "id": "accc1c72",
   "metadata": {},
   "source": [
    "### Step 5.11: Define Green layer values and normalize\n",
    "\n",
    "According to our dust RGB recipe, the gamma for the red layer is 1 and thus does not need to be changed. So, our red layer is now complete. \n",
    "\n",
    "Let's move on to the green layer:"
   ]
  },
  {
   "cell_type": "code",
   "execution_count": null,
   "id": "dd27c2d8",
   "metadata": {},
   "outputs": [],
   "source": [
    "img = ch14-ch11\n",
    "\n",
    "lower_val = -0.5\n",
    "upper_val = 20.0\n",
    "\n",
    "img_clip = np.clip(img, lower_val, upper_val)\n",
    "normalized_green = (img_clip-lower_val)/(upper_val-lower_val)"
   ]
  },
  {
   "cell_type": "markdown",
   "id": "b597c9db",
   "metadata": {},
   "source": [
    "### Step 5.12: Apply gamma correction to Green layer\n",
    "\n",
    "The green layer requires requires a gamma correction:"
   ]
  },
  {
   "cell_type": "code",
   "execution_count": null,
   "id": "e4ab7bc9",
   "metadata": {},
   "outputs": [],
   "source": [
    "gamma = 2.5\n",
    "normalized_green_gamma = np.power(normalized_green, 1/gamma)"
   ]
  },
  {
   "cell_type": "markdown",
   "id": "66abba5d",
   "metadata": {},
   "source": [
    "### Step 5.13: Define Blue layer and normalize\n",
    "\n",
    "This last layer uses a single channel with adjusted ranges. According to the third row of our recipe, no gamma correction is needed."
   ]
  },
  {
   "cell_type": "code",
   "execution_count": null,
   "id": "a9125a28",
   "metadata": {},
   "outputs": [],
   "source": [
    "img = ch13\n",
    "\n",
    "lower_val = 261.2\n",
    "upper_val = 288.7\n",
    "\n",
    "img_clip = np.clip(img, lower_val, upper_val)\n",
    "normalized_blue = (img_clip-lower_val)/(upper_val-lower_val)"
   ]
  },
  {
   "cell_type": "markdown",
   "id": "1eebfc44",
   "metadata": {},
   "source": [
    "### Step 5.14: Stack the Red, Green, and Blue layers\n",
    "\n",
    "Just like in Step 5.4, We use ```np.dstack``` to combine the three arrays into a single 3D array. We stack in order of red, green, blue."
   ]
  },
  {
   "cell_type": "code",
   "execution_count": null,
   "id": "1e831106",
   "metadata": {},
   "outputs": [],
   "source": [
    "dust_RGB = np.dstack([normalized_red, normalized_green_gamma, normalized_blue])"
   ]
  },
  {
   "cell_type": "markdown",
   "id": "808a8717",
   "metadata": {},
   "source": [
    "### Step 5.15: Plot dust RGB composite using Matplotlib\n",
    "\n",
    "Below, we create a simple dust RGB plot:"
   ]
  },
  {
   "cell_type": "code",
   "execution_count": null,
   "id": "f16eae8b",
   "metadata": {},
   "outputs": [],
   "source": [
    "plt.figure()\n",
    "plt.imshow(dust_RGB)\n",
    "plt.show()"
   ]
  },
  {
   "cell_type": "markdown",
   "id": "2e133f5d",
   "metadata": {},
   "source": [
    "### Exercise RGB-1: Create an Airmass RGB composite image\n",
    "\n",
    "[Airmass RGB](https://rammb.cira.colostate.edu/training/visit/quick_guides/QuickGuide_GOESR_AirMassRGB_final.pdf) composite images are used by meteorologists to easily display regions of polar and tropical air masses. Below is the recipe:\n",
    "\n",
    "|Color|central wavelength (µm)|channel | min - max (K) | gamma |\n",
    "|----|---|---|---|---|\n",
    "|Red |6.2 – 7.3|8, 10 |-26.2 to 0.6 |1|\n",
    "|Green|9.6 – 10.3|12, 13| -43.2 to 6.7 |1|\n",
    "|Blue|6.2 (inverted)|8|244.0, 208.5|1|\n",
    "\n",
    "Note: By inverted, we mean once the data are scaled to 0-1, you subtract 1-blue. So, low values (0) become high values (1), and vice versa.\n",
    "\n",
    "Following the same steps we used for the RGB and dust RGB composites, construct an airmass RGB composite image below; some of the code is provided."
   ]
  },
  {
   "cell_type": "code",
   "execution_count": null,
   "id": "e3966d5b",
   "metadata": {},
   "outputs": [],
   "source": [
    "# Define channels\n",
    "ch8 = \n",
    "ch10 = \n",
    "ch12 = \n",
    "ch13 = "
   ]
  },
  {
   "cell_type": "code",
   "execution_count": null,
   "id": "73152736",
   "metadata": {},
   "outputs": [],
   "source": [
    "# Red\n",
    "img = \n",
    "\n",
    "lower_val = \n",
    "upper_val = \n",
    "\n",
    "img_clip = np.clip(img, lower_val, upper_val)\n",
    "normalized_red = (img_clip-lower_val)/(upper_val-lower_val)"
   ]
  },
  {
   "cell_type": "code",
   "execution_count": null,
   "id": "62d5997a",
   "metadata": {},
   "outputs": [],
   "source": [
    "# Green\n",
    "img = \n",
    "\n",
    "lower_val = \n",
    "upper_val = \n",
    "\n",
    "img_clip = np.clip(img, lower_val, upper_val)\n",
    "normalized_green = (img_clip-lower_val)/(upper_val-lower_val)"
   ]
  },
  {
   "cell_type": "code",
   "execution_count": null,
   "id": "df737ea3",
   "metadata": {},
   "outputs": [],
   "source": [
    "# Blue\n",
    "img = \n",
    "\n",
    "lower_val = \n",
    "upper_val = \n",
    "\n",
    "img_clip = np.clip(img, lower_val, upper_val)\n",
    "normalized_blue = (img_clip-lower_val)/(upper_val-lower_val)\n",
    "normalized_blue_inverted = 1-normalized_blue"
   ]
  },
  {
   "cell_type": "code",
   "execution_count": null,
   "id": "3fdcb543",
   "metadata": {},
   "outputs": [],
   "source": [
    "airmass_RGB = np.dstack([normalized_red, normalized_green, normalized_blue_inverted])"
   ]
  },
  {
   "cell_type": "code",
   "execution_count": null,
   "id": "f0376fea",
   "metadata": {},
   "outputs": [],
   "source": [
    "plt.figure()\n",
    "plt.imshow(airmass_RGB)\n",
    "plt.show()"
   ]
  },
  {
   "cell_type": "markdown",
   "id": "7fd9a4f4",
   "metadata": {},
   "source": [
    "## Topic 6: Working with Map Projections"
   ]
  },
  {
   "cell_type": "markdown",
   "id": "7efae82c",
   "metadata": {},
   "source": [
    "### Step 6.1: ABI fixed grid geostationary map projection constants\n",
    "\n",
    "Now we can proceed to plotting our RGB composite images on a map. We will set the map projection for our plot using **Cartopy**.\n",
    "\n",
    "**Cartopy** has many different [map projection options](https://scitools.org.uk/cartopy/docs/latest/reference/projections.html), each with its own strengths and limitations. The VIIRS AOD notebook (viirs_aerosol.ipynb) walks through several examples of different map projections in greater detail.\n",
    "\n",
    "We noticed in Topic 3 that this file does not have latitude and longitude as data variables; many of the GOES ABI products are defined on a fixed geostationary grid. We can extract information about the GOES satellite orbit directly from the netcdf file, which in turn can be used by **Cartopy** to project the data onto a geostationary grid."
   ]
  },
  {
   "cell_type": "code",
   "execution_count": null,
   "id": "43a622be",
   "metadata": {},
   "outputs": [],
   "source": [
    "proj_var = ds.goes_imager_projection\n",
    "\n",
    "sat_height = proj_var.perspective_point_height\n",
    "semi_major = proj_var.semi_major_axis\n",
    "semi_minor = proj_var.semi_minor_axis\n",
    "\n",
    "globe = ccrs.Globe(semimajor_axis=semi_major, semiminor_axis=semi_minor)"
   ]
  },
  {
   "cell_type": "markdown",
   "id": "ad3049f5",
   "metadata": {},
   "source": [
    "### Step 6.2: Define the native geostationary map projection\n",
    "\n",
    "The plotting function argument ```transform=ccrs.Geostationary()``` tells **Cartopy** that the RGB data are in geostationary coordinates. This argument **must** be included when plotting satellite data that are in geostationary coordinates, or the data will not plot correctly on the map projection.\n",
    "\n",
    "Recall that geostationary satellites are always looking at a fixed point on the Earth's surface. The fixed point and satellite height are different on GOES-16/-17/-18 and on international partner satellites, like Meteosat and Himawari. The central latitude is included in the ABI data file, but we didn't include it below. This is because all current GOES satellites are centered on the equator, and the default value for ```central_latitude``` in the function is 0."
   ]
  },
  {
   "cell_type": "code",
   "execution_count": null,
   "id": "485c12e2",
   "metadata": {},
   "outputs": [],
   "source": [
    "central_lon = proj_var.longitude_of_projection_origin\n",
    "crs = ccrs.Geostationary(central_longitude=central_lon, satellite_height=sat_height, globe=globe)"
   ]
  },
  {
   "cell_type": "markdown",
   "id": "77fb3b5b",
   "metadata": {},
   "source": [
    "### Step 6.3: Define extent of the image\n",
    "\n",
    "It's also important to define the extent of the image. This tells **Cartopy** the boundaries of the image (versus that of the map). We do this by multiplying the x and y values (which is essentially the viewing angle of the satellite) by the height of the satellite. The smallest and largest values of each show the extent."
   ]
  },
  {
   "cell_type": "code",
   "execution_count": null,
   "id": "bbec047c",
   "metadata": {},
   "outputs": [],
   "source": [
    "X = ds['x']*sat_height\n",
    "Y = ds['y']*sat_height\n",
    "imgExtent = (X.min(), X.max(), Y.min(), Y.max())"
   ]
  },
  {
   "cell_type": "markdown",
   "id": "7fa41136",
   "metadata": {},
   "source": [
    "### Step 6.4: Plot dust RGB composite on a geostationary map projection using Matplotlib & Cartopy\n",
    "\n",
    "Finally, let's make a plot! You can switch the projection to Plate Carree by commenting out the second line. "
   ]
  },
  {
   "cell_type": "code",
   "execution_count": null,
   "id": "82abf55b",
   "metadata": {},
   "outputs": [],
   "source": [
    "proj_to = crs\n",
    "# proj_to = ccrs.PlateCarree()\n",
    "\n",
    "fig = plt.figure()\n",
    "ax = plt.subplot(projection=proj_to)\n",
    "\n",
    "ax.coastlines('10m', linewidth=2)\n",
    "ax.imshow(dust_RGB, origin='upper', extent=imgExtent, transform=crs)\n",
    "\n",
    "ax.add_feature(cfeature.COASTLINE)\n",
    "ax.add_feature(cfeature.BORDERS)\n",
    "ax.add_feature(cfeature.STATES)\n",
    "\n",
    "plt.show()"
   ]
  },
  {
   "cell_type": "markdown",
   "id": "f3f33eb7",
   "metadata": {},
   "source": [
    "## Step 7: Adding Professional Touches to Images"
   ]
  },
  {
   "cell_type": "markdown",
   "id": "5eb34112",
   "metadata": {},
   "source": [
    "### Step 7.1: Use information in the satellite data file metadata to create plot title\n",
    "\n",
    "We can use the information in the global metadata for the satellite data file to create a plot title automatically. Let's print the global attributes to see what information we want to include in the plot title."
   ]
  },
  {
   "cell_type": "code",
   "execution_count": null,
   "id": "025cd0b1",
   "metadata": {},
   "outputs": [],
   "source": [
    "ds.attrs"
   ]
  },
  {
   "cell_type": "markdown",
   "id": "5b9f2242",
   "metadata": {},
   "source": [
    "### Step 7.2: Extract information from global metadata and format plot title\n",
    "\n",
    "It's good practice to include in the plot title the \"formula\" of the channels used to make the RGB. Recipes can vary slightly from satellite-to-satellite because:\n",
    "* Not all sensors have the same central bands/channel numbering system\n",
    "* Conventions can vary slightly between agencies, universities, and regions.\n",
    "\n",
    "Mathematical symbols and formulas in strings can be written using [LaTeX-like syntax](https://en.wikibooks.org/wiki/LaTeX/Mathematics)."
   ]
  },
  {
   "cell_type": "code",
   "execution_count": null,
   "id": "494b11da",
   "metadata": {},
   "outputs": [],
   "source": [
    "platform = ds.platform_ID + ' ' + ds.title[0:3]\n",
    "\n",
    "dtinfo_s = ds.time_coverage_start[0:16].replace('T',' ')\n",
    "dtinfo_e = ds.time_coverage_end[0:16].replace('T',' ')\n",
    "\n",
    "dt_scan = datetime.datetime.strptime(dtinfo_s, '%Y-%m-%d %H:%M')\n",
    "date_s = dt_scan.strftime('%d %b %Y')\n",
    "time_s = dt_scan.strftime('%H:%M')\n",
    "\n",
    "composite = 'Dust RGB Composite'\n",
    "formula = r'$Red = BT_{12.3\\mu m}-BT_{10.3\\mu m} \\ \\ \\ Green = BT_{11.2\\mu m}-BT_{8.4\\mu m} \\ \\ \\ Blue = BT_{10.3\\mu m}$'\n",
    "\n",
    "plot_title = platform + ' ' + composite + ' ' + time_s + '\\n' + formula"
   ]
  },
  {
   "cell_type": "markdown",
   "id": "02ac1d78",
   "metadata": {},
   "source": [
    "### Step 7.3: Print plot title to check formatting\n",
    "\n",
    "It's a good idea to do a quick check of the formula before adding it to the plot:"
   ]
  },
  {
   "cell_type": "code",
   "execution_count": null,
   "id": "35551876",
   "metadata": {},
   "outputs": [],
   "source": [
    "plot_title"
   ]
  },
  {
   "cell_type": "markdown",
   "id": "a14e0629",
   "metadata": {},
   "source": [
    "### Step 7.4: Add automatically generated plot title to map of dust RGB"
   ]
  },
  {
   "cell_type": "code",
   "execution_count": null,
   "id": "54d6c270",
   "metadata": {},
   "outputs": [],
   "source": [
    "proj_to = crs\n",
    "# proj_to = ccrs.PlateCarree()\n",
    "\n",
    "fig = plt.figure(figsize=(10,10))\n",
    "ax = plt.subplot(projection=proj_to)\n",
    "\n",
    "ax.coastlines('10m', linewidth=2)\n",
    "ax.imshow(dust_RGB, origin='upper', extent=imgExtent, transform=crs)\n",
    "\n",
    "ax.add_feature(cfeature.COASTLINE)\n",
    "ax.add_feature(cfeature.BORDERS)\n",
    "ax.add_feature(cfeature.STATES)\n",
    "\n",
    "plt.title(plot_title)\n",
    "\n",
    "plt.show()"
   ]
  },
  {
   "cell_type": "code",
   "execution_count": null,
   "id": "e288917c",
   "metadata": {},
   "outputs": [],
   "source": []
  }
 ],
 "metadata": {
  "kernelspec": {
   "display_name": "python-workshop",
   "language": "python",
   "name": "python3"
  },
  "language_info": {
   "codemirror_mode": {
    "name": "ipython",
    "version": 3
   },
   "file_extension": ".py",
   "mimetype": "text/x-python",
   "name": "python",
   "nbconvert_exporter": "python",
   "pygments_lexer": "ipython3",
   "version": "3.9.15"
  },
  "varInspector": {
   "cols": {
    "lenName": 16,
    "lenType": 16,
    "lenVar": 40
   },
   "kernels_config": {
    "python": {
     "delete_cmd_postfix": "",
     "delete_cmd_prefix": "del ",
     "library": "var_list.py",
     "varRefreshCmd": "print(var_dic_list())"
    },
    "r": {
     "delete_cmd_postfix": ") ",
     "delete_cmd_prefix": "rm(",
     "library": "var_list.r",
     "varRefreshCmd": "cat(var_dic_list()) "
    }
   },
   "types_to_exclude": [
    "module",
    "function",
    "builtin_function_or_method",
    "instance",
    "_Feature"
   ],
   "window_display": false
  },
  "vscode": {
   "interpreter": {
    "hash": "19bd831083f7eeff7e04b02aad134be3269ceb4d5aa07c17ffad4805c0202fcd"
   }
  }
 },
 "nbformat": 4,
 "nbformat_minor": 5
}
